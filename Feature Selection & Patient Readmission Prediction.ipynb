{
 "cells": [
  {
   "cell_type": "markdown",
   "metadata": {
    "slideshow": {
     "slide_type": "slide"
    }
   },
   "source": [
    "## Impact of Pre-processing and Post-processing Techniques for Feature Selection on Prediction of Heart Failure Patients Readmission from EHRs."
   ]
  },
  {
   "cell_type": "markdown",
   "metadata": {},
   "source": [
    "**Student Name: Oghenekeno F. Eribewe**\n",
    "\n",
    "**Supervisor: Dr. Kyle Martin**\n",
    "\n",
    "**Date: 14th, August 2023**"
   ]
  },
  {
   "cell_type": "markdown",
   "metadata": {
    "slideshow": {
     "slide_type": "subslide"
    }
   },
   "source": [
    "Heart failure is a global pandemic, causing significant morbidity, mortality, and economic burden. Despite \n",
    "advancements in cardiology, it remains a leading cause of hospitalization, particularly among the elderly \n",
    "(Zhang et al. 2020; Awan et al. 2019). Studies have shown high mortality rates within a year after \n",
    "hospitalization for acute heart failure, emphasizing the need for effective prediction and management \n",
    "strategies. Furthermore, heart failure is associated with high hospital readmission rates (Zhang et al. 2021; \n",
    "Zhang et al. 2020).\n",
    "\n",
    "##### Predicting Hospital Readmission\n",
    "Predicting hospital readmission in heart failure patients is crucial for improving care quality, reducing costs, \n",
    "and optimizing resource allocation (Rahman et al. 2023). High readmission rates indicate inadequate initial \n",
    "care and discharge planning, which can negatively impact patient health and well-being. Predictive models \n",
    "can help identify patients at high risk of readmission and allocate resources effectively (Rahman et al. \n",
    "2023). However, current prediction abilities are limited, and traditional approaches may not capture \n",
    "complex relationships among features (Awan et al. 2019; Mortazavi et al. 2016).\n"
   ]
  },
  {
   "cell_type": "markdown",
   "metadata": {
    "slideshow": {
     "slide_type": "slide"
    }
   },
   "source": [
    "#### Aims & Objectives\n",
    "The main goal of this research is to evaluate the effectiveness of various pre-processing and post-processing methods and how they influence feature selection. By doing so, we aim to reveal key features that can lead to the development of more accurate prediction models and, ultimately, enhance patient care in heart failure management.\n",
    "\n",
    "Next, we move on to the implementation of the project requirements..."
   ]
  },
  {
   "cell_type": "markdown",
   "metadata": {
    "id": "YGfzld-RPO2F",
    "slideshow": {
     "slide_type": "skip"
    }
   },
   "source": [
    "#### Loading the required packages"
   ]
  },
  {
   "cell_type": "code",
   "execution_count": 1,
   "metadata": {
    "slideshow": {
     "slide_type": "skip"
    }
   },
   "outputs": [],
   "source": [
    "# importing necessary libraries\n",
    "import pandas as pd\n",
    "import numpy as np\n",
    "\n",
    "# Graphic libraries\n",
    "import matplotlib.pyplot as plt\n",
    "import seaborn as sns\n",
    "\n",
    "# train-test split\n",
    "from sklearn.model_selection import train_test_split\n",
    "\n",
    "# Metrics\n",
    "from sklearn import metrics\n",
    "from sklearn.metrics import accuracy_score, confusion_matrix\n",
    "\n",
    "# ignore warnings from pandas\n",
    "import warnings\n",
    "warnings.filterwarnings('ignore')\n",
    "\n",
    "%matplotlib inline"
   ]
  },
  {
   "cell_type": "markdown",
   "metadata": {
    "id": "X2YJH8bLPXII",
    "slideshow": {
     "slide_type": "slide"
    }
   },
   "source": [
    "### Dataset\n",
    "Data Source for Study:\n",
    "\n",
    "- Database: Patient-specific, freely accessible database\n",
    "\n",
    "- Origin: PhysioNet data portal (https://physionet.org/content/heart-failure-zigong/1.3/)\n",
    "\n",
    "- Accessed: 21 June 2023\n",
    "\n",
    "- References: Goldberger et al. 2000\n",
    "\n",
    "- Patients: 2008 heart failure patients\n",
    "\n",
    "- Fields: 167 features\n",
    "\n",
    "- Hospital: Fourth People’s Hospital of Zigong City, Sichuan, China\n",
    "\n",
    "- Time Frame: December 2016 to June 2019\n",
    "\n",
    "- Dataset Authors: Zhang et al. 2020; Zhang et al. 2021"
   ]
  },
  {
   "cell_type": "code",
   "execution_count": 2,
   "metadata": {
    "id": "MYAfEQYSWGDO",
    "slideshow": {
     "slide_type": "skip"
    }
   },
   "outputs": [],
   "source": [
    "# read in the data\n",
    "\n",
    "# original dataset\n",
    "org_data = pd.read_csv(\"dat.csv\")\n",
    "\n",
    "# revised dataset\n",
    "df_rev = pd.read_csv(\"revised_dataset_HF.csv\")"
   ]
  },
  {
   "cell_type": "code",
   "execution_count": 3,
   "metadata": {
    "id": "Q5Mg1AqnW6z6",
    "slideshow": {
     "slide_type": "skip"
    }
   },
   "outputs": [],
   "source": [
    "# all columns in dataframes\n",
    "org_columns = pd.DataFrame(org_data.columns)\n",
    "df_columns = pd.DataFrame(df_rev.columns)"
   ]
  },
  {
   "cell_type": "code",
   "execution_count": 4,
   "metadata": {
    "colab": {
     "base_uri": "https://localhost:8080/",
     "height": 0
    },
    "id": "4TbG3tLrXnPW",
    "outputId": "c840fbf4-dcfe-47d5-b111-3eee4e0dbf34",
    "slideshow": {
     "slide_type": "skip"
    }
   },
   "outputs": [
    {
     "data": {
      "text/html": [
       "<div>\n",
       "<style scoped>\n",
       "    .dataframe tbody tr th:only-of-type {\n",
       "        vertical-align: middle;\n",
       "    }\n",
       "\n",
       "    .dataframe tbody tr th {\n",
       "        vertical-align: top;\n",
       "    }\n",
       "\n",
       "    .dataframe thead th {\n",
       "        text-align: right;\n",
       "    }\n",
       "</style>\n",
       "<table border=\"1\" class=\"dataframe\">\n",
       "  <thead>\n",
       "    <tr style=\"text-align: right;\">\n",
       "      <th></th>\n",
       "      <th>0</th>\n",
       "    </tr>\n",
       "  </thead>\n",
       "  <tbody>\n",
       "    <tr>\n",
       "      <th>0</th>\n",
       "      <td>inpatient.number</td>\n",
       "    </tr>\n",
       "    <tr>\n",
       "      <th>1</th>\n",
       "      <td>DestinationDischarge</td>\n",
       "    </tr>\n",
       "    <tr>\n",
       "      <th>2</th>\n",
       "      <td>admission.ward</td>\n",
       "    </tr>\n",
       "    <tr>\n",
       "      <th>3</th>\n",
       "      <td>admission.way</td>\n",
       "    </tr>\n",
       "    <tr>\n",
       "      <th>4</th>\n",
       "      <td>occupation</td>\n",
       "    </tr>\n",
       "    <tr>\n",
       "      <th>...</th>\n",
       "      <td>...</td>\n",
       "    </tr>\n",
       "    <tr>\n",
       "      <th>152</th>\n",
       "      <td>total.hemoglobin</td>\n",
       "    </tr>\n",
       "    <tr>\n",
       "      <th>153</th>\n",
       "      <td>GCS</td>\n",
       "    </tr>\n",
       "    <tr>\n",
       "      <th>154</th>\n",
       "      <td>dischargeDay</td>\n",
       "    </tr>\n",
       "    <tr>\n",
       "      <th>155</th>\n",
       "      <td>ageCat</td>\n",
       "    </tr>\n",
       "    <tr>\n",
       "      <th>156</th>\n",
       "      <td>outcome</td>\n",
       "    </tr>\n",
       "  </tbody>\n",
       "</table>\n",
       "<p>157 rows × 1 columns</p>\n",
       "</div>"
      ],
      "text/plain": [
       "                        0\n",
       "0        inpatient.number\n",
       "1    DestinationDischarge\n",
       "2          admission.ward\n",
       "3           admission.way\n",
       "4              occupation\n",
       "..                    ...\n",
       "152      total.hemoglobin\n",
       "153                   GCS\n",
       "154          dischargeDay\n",
       "155                ageCat\n",
       "156               outcome\n",
       "\n",
       "[157 rows x 1 columns]"
      ]
     },
     "metadata": {},
     "output_type": "display_data"
    }
   ],
   "source": [
    "# list of all columns in the revised dataset\n",
    "display(df_columns)"
   ]
  },
  {
   "cell_type": "code",
   "execution_count": 5,
   "metadata": {
    "colab": {
     "base_uri": "https://localhost:8080/"
    },
    "id": "J4uJavbkYrSp",
    "outputId": "3150f808-bce9-4f72-bbbb-58cfe0c808b4",
    "slideshow": {
     "slide_type": "-"
    }
   },
   "outputs": [
    {
     "data": {
      "text/plain": [
       "(2008, 167)"
      ]
     },
     "execution_count": 5,
     "metadata": {},
     "output_type": "execute_result"
    }
   ],
   "source": [
    "# dimensions of the datasets\n",
    "org_data.shape"
   ]
  },
  {
   "cell_type": "markdown",
   "metadata": {
    "slideshow": {
     "slide_type": "slide"
    }
   },
   "source": [
    "#### Data preparation\n",
    "- **Initial Analysis and Pre-processing:**\n",
    "\n",
    "The dataset was thoroughly examined to understand its features and ensure its suitability.\n",
    "Proper pre-processing was performed using Python to prepare the data.\n",
    "\n",
    "- **Target Feature Generation:**\n",
    "\n",
    "The target feature was derived through a conditional aggregation of three distinct features.\n",
    "These features could have individually served as target variables for various readmission prediction tasks.\n",
    "The dataset contained \"readmission within 28 days,\" \"readmission within 3 months,\" and \"readmission within 6 months.\"\n",
    "\"Readmission within 28 days\" and \"readmission within 3 months\" were considered equivalent to \"readmission within 6 months.\"\n",
    "A condition was applied to aggregate records within these features and create the target feature.\n",
    "Subsequently, the original three features were dropped from the dataset.\n",
    "\n",
    "- **Feature Selection:**\n",
    "\n",
    "Eight additional features were discarded due to a high proportion of missing entries (around 90%).\n",
    "This led to the retention of 157 relevant features.\n",
    "\n",
    "- **Data Size and Completeness:**\n",
    "\n",
    "After pre-processing and feature selection, the dataset comprised 1937 records.\n",
    "71 patient records were excluded from analysis due to a substantial number of missing entries.\n",
    "This quick and easy data preparation done with excel resulted in a refined dataset with 157 features and 1937 records, enabling us to proceed with proper pre-processing/feature engineering techniques, accurate analysis and predictive modeling."
   ]
  },
  {
   "cell_type": "code",
   "execution_count": 6,
   "metadata": {
    "colab": {
     "base_uri": "https://localhost:8080/"
    },
    "id": "-6R7I6jqZcGQ",
    "outputId": "605c2f17-375b-45ef-aa5b-e493ba9fd66d",
    "slideshow": {
     "slide_type": "skip"
    }
   },
   "outputs": [
    {
     "data": {
      "text/plain": [
       "(1937, 157)"
      ]
     },
     "execution_count": 6,
     "metadata": {},
     "output_type": "execute_result"
    }
   ],
   "source": [
    "df_rev.shape"
   ]
  },
  {
   "cell_type": "markdown",
   "metadata": {
    "id": "FV-mXKsMQlIV",
    "slideshow": {
     "slide_type": "slide"
    }
   },
   "source": [
    "### Preprocessing the revised dataset"
   ]
  },
  {
   "cell_type": "code",
   "execution_count": 7,
   "metadata": {
    "colab": {
     "base_uri": "https://localhost:8080/"
    },
    "id": "BZjjhan4Zcx3",
    "outputId": "a7ba319e-d128-4bb0-a62b-15361cff950d",
    "slideshow": {
     "slide_type": "-"
    }
   },
   "outputs": [
    {
     "data": {
      "text/plain": [
       "(1937, 157)"
      ]
     },
     "execution_count": 7,
     "metadata": {},
     "output_type": "execute_result"
    }
   ],
   "source": [
    "# working with the revised dataset\n",
    "df_rev.shape"
   ]
  },
  {
   "cell_type": "code",
   "execution_count": 8,
   "metadata": {
    "colab": {
     "base_uri": "https://localhost:8080/",
     "height": 0
    },
    "id": "2AK4FsS2cRS5",
    "outputId": "f72ab460-b495-48bf-eaad-aed3f483a913",
    "slideshow": {
     "slide_type": "skip"
    }
   },
   "outputs": [
    {
     "data": {
      "text/html": [
       "<div>\n",
       "<style scoped>\n",
       "    .dataframe tbody tr th:only-of-type {\n",
       "        vertical-align: middle;\n",
       "    }\n",
       "\n",
       "    .dataframe tbody tr th {\n",
       "        vertical-align: top;\n",
       "    }\n",
       "\n",
       "    .dataframe thead th {\n",
       "        text-align: right;\n",
       "    }\n",
       "</style>\n",
       "<table border=\"1\" class=\"dataframe\">\n",
       "  <thead>\n",
       "    <tr style=\"text-align: right;\">\n",
       "      <th></th>\n",
       "      <th>0</th>\n",
       "    </tr>\n",
       "  </thead>\n",
       "  <tbody>\n",
       "    <tr>\n",
       "      <th>inpatient.number</th>\n",
       "      <td>0</td>\n",
       "    </tr>\n",
       "    <tr>\n",
       "      <th>DestinationDischarge</th>\n",
       "      <td>0</td>\n",
       "    </tr>\n",
       "    <tr>\n",
       "      <th>admission.ward</th>\n",
       "      <td>0</td>\n",
       "    </tr>\n",
       "    <tr>\n",
       "      <th>admission.way</th>\n",
       "      <td>0</td>\n",
       "    </tr>\n",
       "    <tr>\n",
       "      <th>occupation</th>\n",
       "      <td>26</td>\n",
       "    </tr>\n",
       "    <tr>\n",
       "      <th>...</th>\n",
       "      <td>...</td>\n",
       "    </tr>\n",
       "    <tr>\n",
       "      <th>total.hemoglobin</th>\n",
       "      <td>988</td>\n",
       "    </tr>\n",
       "    <tr>\n",
       "      <th>GCS</th>\n",
       "      <td>0</td>\n",
       "    </tr>\n",
       "    <tr>\n",
       "      <th>dischargeDay</th>\n",
       "      <td>0</td>\n",
       "    </tr>\n",
       "    <tr>\n",
       "      <th>ageCat</th>\n",
       "      <td>0</td>\n",
       "    </tr>\n",
       "    <tr>\n",
       "      <th>outcome</th>\n",
       "      <td>0</td>\n",
       "    </tr>\n",
       "  </tbody>\n",
       "</table>\n",
       "<p>157 rows × 1 columns</p>\n",
       "</div>"
      ],
      "text/plain": [
       "                        0\n",
       "inpatient.number        0\n",
       "DestinationDischarge    0\n",
       "admission.ward          0\n",
       "admission.way           0\n",
       "occupation             26\n",
       "...                   ...\n",
       "total.hemoglobin      988\n",
       "GCS                     0\n",
       "dischargeDay            0\n",
       "ageCat                  0\n",
       "outcome                 0\n",
       "\n",
       "[157 rows x 1 columns]"
      ]
     },
     "execution_count": 8,
     "metadata": {},
     "output_type": "execute_result"
    }
   ],
   "source": [
    "# checking amounts of NA's (missing values) in each field\n",
    "pd.DataFrame(df_rev.isna().sum())"
   ]
  },
  {
   "cell_type": "code",
   "execution_count": 9,
   "metadata": {
    "id": "WwQZvK0kTAKf",
    "slideshow": {
     "slide_type": "skip"
    }
   },
   "outputs": [],
   "source": [
    "# dropping irrelevant fields\n",
    "df_rev.drop(\"inpatient.number\", axis=1, inplace=True)"
   ]
  },
  {
   "cell_type": "markdown",
   "metadata": {
    "slideshow": {
     "slide_type": "subslide"
    }
   },
   "source": [
    "- **Removing Redundant Patient Numbers:**\n",
    "\n",
    "The field containing unique patient numbers was eliminated from the dataset.\n",
    "This step was taken because the patient numbers held no predictive value for model training.\n",
    "\n",
    "\n",
    "- **Threshold-based Handling of Missing Values:**\n",
    "\n",
    "To address missing values effectively, a threshold was established.\n",
    "Fields with non-missing entries with atleast this threshold were identified and retained, dropping all fields with non-missing values below the threshold.\n",
    "Imputation of missing values will be focused on fields where a reasonable proportion of entries were missing.\n",
    "This approach ensured that imputation was performed only in fields with a meaningful amount of missing data."
   ]
  },
  {
   "cell_type": "code",
   "execution_count": 10,
   "metadata": {
    "id": "jB7xwgkXe9KQ",
    "slideshow": {
     "slide_type": "skip"
    }
   },
   "outputs": [],
   "source": [
    "# defining the threshold for the number of non-NaN values required to keep a column\n",
    "threshold = len(df_rev) - 670  # Keep columns with at least (total rows - 670) non-NaN values\n",
    "\n",
    "# dropping columns with a number of non-NaN values below the threshold\n",
    "df_cleaned = df_rev.dropna(axis=1, thresh=threshold)"
   ]
  },
  {
   "cell_type": "code",
   "execution_count": 11,
   "metadata": {
    "colab": {
     "base_uri": "https://localhost:8080/"
    },
    "id": "1AXALim8wZtq",
    "outputId": "864b4990-d0ed-45a7-9afe-82d3425193b4",
    "slideshow": {
     "slide_type": "-"
    }
   },
   "outputs": [
    {
     "data": {
      "text/plain": [
       "(1937, 116)"
      ]
     },
     "execution_count": 11,
     "metadata": {},
     "output_type": "execute_result"
    }
   ],
   "source": [
    "# checking amounts of NA's (missing values) in each field\n",
    "df_cleaned.shape"
   ]
  },
  {
   "cell_type": "markdown",
   "metadata": {
    "slideshow": {
     "slide_type": "-"
    }
   },
   "source": [
    "We now have 116 features after dropping the features with large amounts of missing entries"
   ]
  },
  {
   "cell_type": "code",
   "execution_count": 12,
   "metadata": {
    "id": "jmnpF6kGw2nS",
    "slideshow": {
     "slide_type": "skip"
    }
   },
   "outputs": [],
   "source": [
    "df_cleaned[\"occupation\"] = df_cleaned[\"occupation\"].fillna('No Occupation')"
   ]
  },
  {
   "cell_type": "markdown",
   "metadata": {
    "id": "C2F_FRXBQWas",
    "slideshow": {
     "slide_type": "slide"
    }
   },
   "source": [
    "### Label  encoding categorical variables\n",
    "Next, we encode the categorical variables (i.e., transforming the categorical data into numerical values) as many ML algorithms require numerical input data."
   ]
  },
  {
   "cell_type": "code",
   "execution_count": 13,
   "metadata": {
    "id": "oXctgqMCAA3a",
    "slideshow": {
     "slide_type": "-"
    }
   },
   "outputs": [],
   "source": [
    "# import the label encoding package\n",
    "from sklearn.preprocessing import LabelEncoder\n",
    "\n",
    "# identify categorical columns in the DataFrame\n",
    "object_columns = df_cleaned.select_dtypes(include='object').columns\n",
    "\n",
    "# converting the data type from object to categorical \n",
    "df_cleaned[object_columns] = df_cleaned[object_columns].astype('category')"
   ]
  },
  {
   "cell_type": "code",
   "execution_count": 14,
   "metadata": {
    "slideshow": {
     "slide_type": "skip"
    }
   },
   "outputs": [],
   "source": [
    "# Create a LabelEncoder object\n",
    "label_encoder = LabelEncoder()\n",
    "\n",
    "# Iterate through each categorical column and label encode the values\n",
    "for column in object_columns:\n",
    "    df_cleaned[column] = label_encoder.fit_transform(df_cleaned[column]) "
   ]
  },
  {
   "cell_type": "markdown",
   "metadata": {
    "id": "Ilf3I-9gQJoK",
    "slideshow": {
     "slide_type": "slide"
    }
   },
   "source": [
    "### Handling missing values in all fields\n",
    "Next, we try to handle the missing values using the KNNImputer from the sklearn library. The KNNImputer predicts the value of a missing value by observing trends in related columns. It then chooses the best fit value based on the k-Nearest Neighbors algorithm."
   ]
  },
  {
   "cell_type": "code",
   "execution_count": 15,
   "metadata": {
    "id": "27JmIDq2AFij",
    "slideshow": {
     "slide_type": "-"
    }
   },
   "outputs": [],
   "source": [
    "from sklearn.impute import KNNImputer\n",
    "\n",
    "# Identify columns with numerical data (to use for KNN imputation)\n",
    "numerical_columns = df_cleaned.select_dtypes(include='number').columns\n",
    "\n",
    "# Create a KNNImputer object with the desired number of neighbors\n",
    "imputer = KNNImputer(n_neighbors=10)\n",
    "\n",
    "# Fit the imputer on the dataset and transform it to replace NA values\n",
    "df_cleaned[numerical_columns] = imputer.fit_transform(df_cleaned[numerical_columns])"
   ]
  },
  {
   "cell_type": "code",
   "execution_count": 16,
   "metadata": {
    "colab": {
     "base_uri": "https://localhost:8080/",
     "height": 0
    },
    "id": "lE94tq7FBW-6",
    "outputId": "4f807941-3fcc-4d5a-ba5f-33edc5820058",
    "slideshow": {
     "slide_type": "skip"
    }
   },
   "outputs": [
    {
     "data": {
      "text/html": [
       "<div>\n",
       "<style scoped>\n",
       "    .dataframe tbody tr th:only-of-type {\n",
       "        vertical-align: middle;\n",
       "    }\n",
       "\n",
       "    .dataframe tbody tr th {\n",
       "        vertical-align: top;\n",
       "    }\n",
       "\n",
       "    .dataframe thead th {\n",
       "        text-align: right;\n",
       "    }\n",
       "</style>\n",
       "<table border=\"1\" class=\"dataframe\">\n",
       "  <thead>\n",
       "    <tr style=\"text-align: right;\">\n",
       "      <th></th>\n",
       "      <th>DestinationDischarge</th>\n",
       "      <th>admission.ward</th>\n",
       "      <th>admission.way</th>\n",
       "      <th>occupation</th>\n",
       "      <th>discharge.department</th>\n",
       "      <th>visit.times</th>\n",
       "      <th>gender</th>\n",
       "      <th>body.temperature</th>\n",
       "      <th>pulse</th>\n",
       "      <th>respiration</th>\n",
       "      <th>...</th>\n",
       "      <th>total.bile.acid</th>\n",
       "      <th>total.protein</th>\n",
       "      <th>cholesterol</th>\n",
       "      <th>low.density.lipoprotein.cholesterol</th>\n",
       "      <th>triglyceride</th>\n",
       "      <th>high.density.lipoprotein.cholesterol</th>\n",
       "      <th>GCS</th>\n",
       "      <th>dischargeDay</th>\n",
       "      <th>ageCat</th>\n",
       "      <th>outcome</th>\n",
       "    </tr>\n",
       "  </thead>\n",
       "  <tbody>\n",
       "    <tr>\n",
       "      <th>0</th>\n",
       "      <td>2.0</td>\n",
       "      <td>0.0</td>\n",
       "      <td>0.0</td>\n",
       "      <td>3.0</td>\n",
       "      <td>0.0</td>\n",
       "      <td>1.0</td>\n",
       "      <td>1.0</td>\n",
       "      <td>36.1</td>\n",
       "      <td>80.0</td>\n",
       "      <td>18.0</td>\n",
       "      <td>...</td>\n",
       "      <td>12.00</td>\n",
       "      <td>52.2</td>\n",
       "      <td>3.473</td>\n",
       "      <td>1.797</td>\n",
       "      <td>0.996</td>\n",
       "      <td>0.989</td>\n",
       "      <td>15.0</td>\n",
       "      <td>16.0</td>\n",
       "      <td>6.0</td>\n",
       "      <td>1.0</td>\n",
       "    </tr>\n",
       "    <tr>\n",
       "      <th>1</th>\n",
       "      <td>2.0</td>\n",
       "      <td>0.0</td>\n",
       "      <td>1.0</td>\n",
       "      <td>3.0</td>\n",
       "      <td>0.0</td>\n",
       "      <td>1.0</td>\n",
       "      <td>0.0</td>\n",
       "      <td>36.7</td>\n",
       "      <td>75.0</td>\n",
       "      <td>20.0</td>\n",
       "      <td>...</td>\n",
       "      <td>5.06</td>\n",
       "      <td>66.1</td>\n",
       "      <td>4.500</td>\n",
       "      <td>2.060</td>\n",
       "      <td>0.840</td>\n",
       "      <td>1.450</td>\n",
       "      <td>15.0</td>\n",
       "      <td>14.0</td>\n",
       "      <td>6.0</td>\n",
       "      <td>1.0</td>\n",
       "    </tr>\n",
       "    <tr>\n",
       "      <th>2</th>\n",
       "      <td>1.0</td>\n",
       "      <td>0.0</td>\n",
       "      <td>1.0</td>\n",
       "      <td>3.0</td>\n",
       "      <td>0.0</td>\n",
       "      <td>1.0</td>\n",
       "      <td>0.0</td>\n",
       "      <td>36.3</td>\n",
       "      <td>72.0</td>\n",
       "      <td>18.0</td>\n",
       "      <td>...</td>\n",
       "      <td>1.70</td>\n",
       "      <td>69.2</td>\n",
       "      <td>3.920</td>\n",
       "      <td>2.140</td>\n",
       "      <td>1.910</td>\n",
       "      <td>0.960</td>\n",
       "      <td>15.0</td>\n",
       "      <td>7.0</td>\n",
       "      <td>4.0</td>\n",
       "      <td>0.0</td>\n",
       "    </tr>\n",
       "    <tr>\n",
       "      <th>3</th>\n",
       "      <td>2.0</td>\n",
       "      <td>0.0</td>\n",
       "      <td>1.0</td>\n",
       "      <td>3.0</td>\n",
       "      <td>3.0</td>\n",
       "      <td>1.0</td>\n",
       "      <td>1.0</td>\n",
       "      <td>36.3</td>\n",
       "      <td>78.0</td>\n",
       "      <td>20.0</td>\n",
       "      <td>...</td>\n",
       "      <td>45.50</td>\n",
       "      <td>57.1</td>\n",
       "      <td>3.427</td>\n",
       "      <td>1.713</td>\n",
       "      <td>1.153</td>\n",
       "      <td>0.978</td>\n",
       "      <td>15.0</td>\n",
       "      <td>10.0</td>\n",
       "      <td>3.0</td>\n",
       "      <td>1.0</td>\n",
       "    </tr>\n",
       "    <tr>\n",
       "      <th>4</th>\n",
       "      <td>2.0</td>\n",
       "      <td>0.0</td>\n",
       "      <td>0.0</td>\n",
       "      <td>3.0</td>\n",
       "      <td>0.0</td>\n",
       "      <td>1.0</td>\n",
       "      <td>0.0</td>\n",
       "      <td>37.0</td>\n",
       "      <td>90.0</td>\n",
       "      <td>19.0</td>\n",
       "      <td>...</td>\n",
       "      <td>5.75</td>\n",
       "      <td>79.4</td>\n",
       "      <td>2.850</td>\n",
       "      <td>1.580</td>\n",
       "      <td>1.310</td>\n",
       "      <td>0.850</td>\n",
       "      <td>15.0</td>\n",
       "      <td>5.0</td>\n",
       "      <td>5.0</td>\n",
       "      <td>1.0</td>\n",
       "    </tr>\n",
       "  </tbody>\n",
       "</table>\n",
       "<p>5 rows × 116 columns</p>\n",
       "</div>"
      ],
      "text/plain": [
       "   DestinationDischarge  admission.ward  admission.way  occupation  \\\n",
       "0                   2.0             0.0            0.0         3.0   \n",
       "1                   2.0             0.0            1.0         3.0   \n",
       "2                   1.0             0.0            1.0         3.0   \n",
       "3                   2.0             0.0            1.0         3.0   \n",
       "4                   2.0             0.0            0.0         3.0   \n",
       "\n",
       "   discharge.department  visit.times  gender  body.temperature  pulse  \\\n",
       "0                   0.0          1.0     1.0              36.1   80.0   \n",
       "1                   0.0          1.0     0.0              36.7   75.0   \n",
       "2                   0.0          1.0     0.0              36.3   72.0   \n",
       "3                   3.0          1.0     1.0              36.3   78.0   \n",
       "4                   0.0          1.0     0.0              37.0   90.0   \n",
       "\n",
       "   respiration  ...  total.bile.acid  total.protein  cholesterol  \\\n",
       "0         18.0  ...            12.00           52.2        3.473   \n",
       "1         20.0  ...             5.06           66.1        4.500   \n",
       "2         18.0  ...             1.70           69.2        3.920   \n",
       "3         20.0  ...            45.50           57.1        3.427   \n",
       "4         19.0  ...             5.75           79.4        2.850   \n",
       "\n",
       "   low.density.lipoprotein.cholesterol  triglyceride  \\\n",
       "0                                1.797         0.996   \n",
       "1                                2.060         0.840   \n",
       "2                                2.140         1.910   \n",
       "3                                1.713         1.153   \n",
       "4                                1.580         1.310   \n",
       "\n",
       "   high.density.lipoprotein.cholesterol   GCS  dischargeDay  ageCat  outcome  \n",
       "0                                 0.989  15.0          16.0     6.0      1.0  \n",
       "1                                 1.450  15.0          14.0     6.0      1.0  \n",
       "2                                 0.960  15.0           7.0     4.0      0.0  \n",
       "3                                 0.978  15.0          10.0     3.0      1.0  \n",
       "4                                 0.850  15.0           5.0     5.0      1.0  \n",
       "\n",
       "[5 rows x 116 columns]"
      ]
     },
     "execution_count": 16,
     "metadata": {},
     "output_type": "execute_result"
    }
   ],
   "source": [
    "df_cleaned.head()"
   ]
  },
  {
   "cell_type": "code",
   "execution_count": 17,
   "metadata": {
    "colab": {
     "base_uri": "https://localhost:8080/",
     "height": 0
    },
    "id": "0dPRd7NNNkfm",
    "outputId": "e7cbb921-e1dc-400d-b3d4-74b9adfbb7d3",
    "slideshow": {
     "slide_type": "skip"
    }
   },
   "outputs": [
    {
     "data": {
      "text/html": [
       "<div>\n",
       "<style scoped>\n",
       "    .dataframe tbody tr th:only-of-type {\n",
       "        vertical-align: middle;\n",
       "    }\n",
       "\n",
       "    .dataframe tbody tr th {\n",
       "        vertical-align: top;\n",
       "    }\n",
       "\n",
       "    .dataframe thead th {\n",
       "        text-align: right;\n",
       "    }\n",
       "</style>\n",
       "<table border=\"1\" class=\"dataframe\">\n",
       "  <thead>\n",
       "    <tr style=\"text-align: right;\">\n",
       "      <th></th>\n",
       "      <th>0</th>\n",
       "    </tr>\n",
       "  </thead>\n",
       "  <tbody>\n",
       "    <tr>\n",
       "      <th>DestinationDischarge</th>\n",
       "      <td>0</td>\n",
       "    </tr>\n",
       "    <tr>\n",
       "      <th>admission.ward</th>\n",
       "      <td>0</td>\n",
       "    </tr>\n",
       "    <tr>\n",
       "      <th>admission.way</th>\n",
       "      <td>0</td>\n",
       "    </tr>\n",
       "    <tr>\n",
       "      <th>occupation</th>\n",
       "      <td>0</td>\n",
       "    </tr>\n",
       "    <tr>\n",
       "      <th>discharge.department</th>\n",
       "      <td>0</td>\n",
       "    </tr>\n",
       "    <tr>\n",
       "      <th>...</th>\n",
       "      <td>...</td>\n",
       "    </tr>\n",
       "    <tr>\n",
       "      <th>high.density.lipoprotein.cholesterol</th>\n",
       "      <td>0</td>\n",
       "    </tr>\n",
       "    <tr>\n",
       "      <th>GCS</th>\n",
       "      <td>0</td>\n",
       "    </tr>\n",
       "    <tr>\n",
       "      <th>dischargeDay</th>\n",
       "      <td>0</td>\n",
       "    </tr>\n",
       "    <tr>\n",
       "      <th>ageCat</th>\n",
       "      <td>0</td>\n",
       "    </tr>\n",
       "    <tr>\n",
       "      <th>outcome</th>\n",
       "      <td>0</td>\n",
       "    </tr>\n",
       "  </tbody>\n",
       "</table>\n",
       "<p>116 rows × 1 columns</p>\n",
       "</div>"
      ],
      "text/plain": [
       "                                      0\n",
       "DestinationDischarge                  0\n",
       "admission.ward                        0\n",
       "admission.way                         0\n",
       "occupation                            0\n",
       "discharge.department                  0\n",
       "...                                  ..\n",
       "high.density.lipoprotein.cholesterol  0\n",
       "GCS                                   0\n",
       "dischargeDay                          0\n",
       "ageCat                                0\n",
       "outcome                               0\n",
       "\n",
       "[116 rows x 1 columns]"
      ]
     },
     "execution_count": 17,
     "metadata": {},
     "output_type": "execute_result"
    }
   ],
   "source": [
    "pd.DataFrame(df_cleaned.isna().sum())"
   ]
  },
  {
   "cell_type": "markdown",
   "metadata": {
    "slideshow": {
     "slide_type": "skip"
    }
   },
   "source": [
    "We now have no field with any missing values."
   ]
  },
  {
   "cell_type": "markdown",
   "metadata": {
    "id": "RYc7qPHZKWZI",
    "slideshow": {
     "slide_type": "slide"
    }
   },
   "source": [
    "### Feature Scaling\n",
    "Feature scaling is the process of normalizing the range of features in a dataset. Real-world datasets often contain features that are varying in degrees of magnitude, range, and units. Therefore, in order for machine learning models to interpret these features on the same scale, we need to perform feature scaling.\n",
    "The approach we have opted for in this experiment is the MinMaxScaler from the sklearn library which performs a linear transformation on the original data. This technique gets all the scaled data in the range (0, 1).  "
   ]
  },
  {
   "cell_type": "code",
   "execution_count": 18,
   "metadata": {
    "id": "4_dVyHjyNL9x",
    "slideshow": {
     "slide_type": "skip"
    }
   },
   "outputs": [],
   "source": [
    "col_names = df_cleaned.columns"
   ]
  },
  {
   "cell_type": "code",
   "execution_count": 19,
   "metadata": {
    "id": "UlhSxBHbKWEC",
    "slideshow": {
     "slide_type": "-"
    }
   },
   "outputs": [],
   "source": [
    "# scaling the features to have min = 0 & max = 1\n",
    "from sklearn.preprocessing import MinMaxScaler\n",
    "\n",
    "scaler = MinMaxScaler()\n",
    "df_cleaned = scaler.fit_transform(df_cleaned)"
   ]
  },
  {
   "cell_type": "code",
   "execution_count": 20,
   "metadata": {
    "id": "LtAP3BjRMEmC",
    "slideshow": {
     "slide_type": "skip"
    }
   },
   "outputs": [],
   "source": [
    "df_cleaned = pd.DataFrame(df_cleaned)\n",
    "df_cleaned.columns = col_names"
   ]
  },
  {
   "cell_type": "code",
   "execution_count": 21,
   "metadata": {
    "colab": {
     "base_uri": "https://localhost:8080/",
     "height": 0
    },
    "id": "_BVsPprZLmdr",
    "outputId": "6215e9e8-da84-4ba1-8aae-a460a4fc996e",
    "slideshow": {
     "slide_type": "-"
    }
   },
   "outputs": [
    {
     "data": {
      "text/html": [
       "<div>\n",
       "<style scoped>\n",
       "    .dataframe tbody tr th:only-of-type {\n",
       "        vertical-align: middle;\n",
       "    }\n",
       "\n",
       "    .dataframe tbody tr th {\n",
       "        vertical-align: top;\n",
       "    }\n",
       "\n",
       "    .dataframe thead th {\n",
       "        text-align: right;\n",
       "    }\n",
       "</style>\n",
       "<table border=\"1\" class=\"dataframe\">\n",
       "  <thead>\n",
       "    <tr style=\"text-align: right;\">\n",
       "      <th></th>\n",
       "      <th>DestinationDischarge</th>\n",
       "      <th>admission.ward</th>\n",
       "      <th>admission.way</th>\n",
       "      <th>occupation</th>\n",
       "      <th>discharge.department</th>\n",
       "      <th>visit.times</th>\n",
       "      <th>gender</th>\n",
       "      <th>body.temperature</th>\n",
       "      <th>pulse</th>\n",
       "      <th>respiration</th>\n",
       "      <th>...</th>\n",
       "      <th>total.bile.acid</th>\n",
       "      <th>total.protein</th>\n",
       "      <th>cholesterol</th>\n",
       "      <th>low.density.lipoprotein.cholesterol</th>\n",
       "      <th>triglyceride</th>\n",
       "      <th>high.density.lipoprotein.cholesterol</th>\n",
       "      <th>GCS</th>\n",
       "      <th>dischargeDay</th>\n",
       "      <th>ageCat</th>\n",
       "      <th>outcome</th>\n",
       "    </tr>\n",
       "  </thead>\n",
       "  <tbody>\n",
       "    <tr>\n",
       "      <th>count</th>\n",
       "      <td>1937.000000</td>\n",
       "      <td>1937.000000</td>\n",
       "      <td>1937.000000</td>\n",
       "      <td>1937.000000</td>\n",
       "      <td>1937.000000</td>\n",
       "      <td>1937.000000</td>\n",
       "      <td>1937.000000</td>\n",
       "      <td>1937.000000</td>\n",
       "      <td>1937.000000</td>\n",
       "      <td>1937.000000</td>\n",
       "      <td>...</td>\n",
       "      <td>1937.000000</td>\n",
       "      <td>1937.000000</td>\n",
       "      <td>1937.000000</td>\n",
       "      <td>1937.000000</td>\n",
       "      <td>1937.000000</td>\n",
       "      <td>1937.000000</td>\n",
       "      <td>1937.000000</td>\n",
       "      <td>1937.000000</td>\n",
       "      <td>1937.000000</td>\n",
       "      <td>1937.000000</td>\n",
       "    </tr>\n",
       "    <tr>\n",
       "      <th>mean</th>\n",
       "      <td>0.622784</td>\n",
       "      <td>0.139563</td>\n",
       "      <td>0.523490</td>\n",
       "      <td>0.604233</td>\n",
       "      <td>0.066426</td>\n",
       "      <td>0.023103</td>\n",
       "      <td>0.418172</td>\n",
       "      <td>0.202530</td>\n",
       "      <td>0.430179</td>\n",
       "      <td>0.529656</td>\n",
       "      <td>...</td>\n",
       "      <td>0.049299</td>\n",
       "      <td>0.395252</td>\n",
       "      <td>0.285745</td>\n",
       "      <td>0.248136</td>\n",
       "      <td>0.039839</td>\n",
       "      <td>0.397029</td>\n",
       "      <td>0.991869</td>\n",
       "      <td>0.069344</td>\n",
       "      <td>0.716277</td>\n",
       "      <td>0.398554</td>\n",
       "    </tr>\n",
       "    <tr>\n",
       "      <th>std</th>\n",
       "      <td>0.187327</td>\n",
       "      <td>0.298589</td>\n",
       "      <td>0.499577</td>\n",
       "      <td>0.111353</td>\n",
       "      <td>0.186351</td>\n",
       "      <td>0.091697</td>\n",
       "      <td>0.493386</td>\n",
       "      <td>0.062241</td>\n",
       "      <td>0.108754</td>\n",
       "      <td>0.047931</td>\n",
       "      <td>...</td>\n",
       "      <td>0.070108</td>\n",
       "      <td>0.120870</td>\n",
       "      <td>0.119001</td>\n",
       "      <td>0.120215</td>\n",
       "      <td>0.044109</td>\n",
       "      <td>0.123507</td>\n",
       "      <td>0.065514</td>\n",
       "      <td>0.065376</td>\n",
       "      <td>0.164166</td>\n",
       "      <td>0.489727</td>\n",
       "    </tr>\n",
       "    <tr>\n",
       "      <th>min</th>\n",
       "      <td>0.000000</td>\n",
       "      <td>0.000000</td>\n",
       "      <td>0.000000</td>\n",
       "      <td>0.000000</td>\n",
       "      <td>0.000000</td>\n",
       "      <td>0.000000</td>\n",
       "      <td>0.000000</td>\n",
       "      <td>0.000000</td>\n",
       "      <td>0.000000</td>\n",
       "      <td>0.000000</td>\n",
       "      <td>...</td>\n",
       "      <td>0.000000</td>\n",
       "      <td>0.000000</td>\n",
       "      <td>0.000000</td>\n",
       "      <td>0.000000</td>\n",
       "      <td>0.000000</td>\n",
       "      <td>0.000000</td>\n",
       "      <td>0.000000</td>\n",
       "      <td>0.000000</td>\n",
       "      <td>0.000000</td>\n",
       "      <td>0.000000</td>\n",
       "    </tr>\n",
       "    <tr>\n",
       "      <th>25%</th>\n",
       "      <td>0.666667</td>\n",
       "      <td>0.000000</td>\n",
       "      <td>0.000000</td>\n",
       "      <td>0.600000</td>\n",
       "      <td>0.000000</td>\n",
       "      <td>0.000000</td>\n",
       "      <td>0.000000</td>\n",
       "      <td>0.171429</td>\n",
       "      <td>0.353535</td>\n",
       "      <td>0.500000</td>\n",
       "      <td>...</td>\n",
       "      <td>0.018225</td>\n",
       "      <td>0.317568</td>\n",
       "      <td>0.207159</td>\n",
       "      <td>0.168317</td>\n",
       "      <td>0.021048</td>\n",
       "      <td>0.316176</td>\n",
       "      <td>1.000000</td>\n",
       "      <td>0.040984</td>\n",
       "      <td>0.571429</td>\n",
       "      <td>0.000000</td>\n",
       "    </tr>\n",
       "    <tr>\n",
       "      <th>50%</th>\n",
       "      <td>0.666667</td>\n",
       "      <td>0.000000</td>\n",
       "      <td>1.000000</td>\n",
       "      <td>0.600000</td>\n",
       "      <td>0.000000</td>\n",
       "      <td>0.000000</td>\n",
       "      <td>0.000000</td>\n",
       "      <td>0.185714</td>\n",
       "      <td>0.414141</td>\n",
       "      <td>0.527778</td>\n",
       "      <td>...</td>\n",
       "      <td>0.032569</td>\n",
       "      <td>0.390203</td>\n",
       "      <td>0.272273</td>\n",
       "      <td>0.232673</td>\n",
       "      <td>0.031366</td>\n",
       "      <td>0.386029</td>\n",
       "      <td>1.000000</td>\n",
       "      <td>0.057377</td>\n",
       "      <td>0.714286</td>\n",
       "      <td>0.000000</td>\n",
       "    </tr>\n",
       "    <tr>\n",
       "      <th>75%</th>\n",
       "      <td>0.666667</td>\n",
       "      <td>0.000000</td>\n",
       "      <td>1.000000</td>\n",
       "      <td>0.600000</td>\n",
       "      <td>0.000000</td>\n",
       "      <td>0.000000</td>\n",
       "      <td>1.000000</td>\n",
       "      <td>0.214286</td>\n",
       "      <td>0.494949</td>\n",
       "      <td>0.527778</td>\n",
       "      <td>...</td>\n",
       "      <td>0.052557</td>\n",
       "      <td>0.462838</td>\n",
       "      <td>0.346591</td>\n",
       "      <td>0.310231</td>\n",
       "      <td>0.044986</td>\n",
       "      <td>0.463235</td>\n",
       "      <td>1.000000</td>\n",
       "      <td>0.073770</td>\n",
       "      <td>0.857143</td>\n",
       "      <td>1.000000</td>\n",
       "    </tr>\n",
       "    <tr>\n",
       "      <th>max</th>\n",
       "      <td>1.000000</td>\n",
       "      <td>1.000000</td>\n",
       "      <td>1.000000</td>\n",
       "      <td>1.000000</td>\n",
       "      <td>1.000000</td>\n",
       "      <td>1.000000</td>\n",
       "      <td>1.000000</td>\n",
       "      <td>1.000000</td>\n",
       "      <td>1.000000</td>\n",
       "      <td>1.000000</td>\n",
       "      <td>...</td>\n",
       "      <td>1.000000</td>\n",
       "      <td>1.000000</td>\n",
       "      <td>1.000000</td>\n",
       "      <td>1.000000</td>\n",
       "      <td>1.000000</td>\n",
       "      <td>1.000000</td>\n",
       "      <td>1.000000</td>\n",
       "      <td>1.000000</td>\n",
       "      <td>1.000000</td>\n",
       "      <td>1.000000</td>\n",
       "    </tr>\n",
       "  </tbody>\n",
       "</table>\n",
       "<p>8 rows × 116 columns</p>\n",
       "</div>"
      ],
      "text/plain": [
       "       DestinationDischarge  admission.ward  admission.way   occupation  \\\n",
       "count           1937.000000     1937.000000    1937.000000  1937.000000   \n",
       "mean               0.622784        0.139563       0.523490     0.604233   \n",
       "std                0.187327        0.298589       0.499577     0.111353   \n",
       "min                0.000000        0.000000       0.000000     0.000000   \n",
       "25%                0.666667        0.000000       0.000000     0.600000   \n",
       "50%                0.666667        0.000000       1.000000     0.600000   \n",
       "75%                0.666667        0.000000       1.000000     0.600000   \n",
       "max                1.000000        1.000000       1.000000     1.000000   \n",
       "\n",
       "       discharge.department  visit.times       gender  body.temperature  \\\n",
       "count           1937.000000  1937.000000  1937.000000       1937.000000   \n",
       "mean               0.066426     0.023103     0.418172          0.202530   \n",
       "std                0.186351     0.091697     0.493386          0.062241   \n",
       "min                0.000000     0.000000     0.000000          0.000000   \n",
       "25%                0.000000     0.000000     0.000000          0.171429   \n",
       "50%                0.000000     0.000000     0.000000          0.185714   \n",
       "75%                0.000000     0.000000     1.000000          0.214286   \n",
       "max                1.000000     1.000000     1.000000          1.000000   \n",
       "\n",
       "             pulse  respiration  ...  total.bile.acid  total.protein  \\\n",
       "count  1937.000000  1937.000000  ...      1937.000000    1937.000000   \n",
       "mean      0.430179     0.529656  ...         0.049299       0.395252   \n",
       "std       0.108754     0.047931  ...         0.070108       0.120870   \n",
       "min       0.000000     0.000000  ...         0.000000       0.000000   \n",
       "25%       0.353535     0.500000  ...         0.018225       0.317568   \n",
       "50%       0.414141     0.527778  ...         0.032569       0.390203   \n",
       "75%       0.494949     0.527778  ...         0.052557       0.462838   \n",
       "max       1.000000     1.000000  ...         1.000000       1.000000   \n",
       "\n",
       "       cholesterol  low.density.lipoprotein.cholesterol  triglyceride  \\\n",
       "count  1937.000000                          1937.000000   1937.000000   \n",
       "mean      0.285745                             0.248136      0.039839   \n",
       "std       0.119001                             0.120215      0.044109   \n",
       "min       0.000000                             0.000000      0.000000   \n",
       "25%       0.207159                             0.168317      0.021048   \n",
       "50%       0.272273                             0.232673      0.031366   \n",
       "75%       0.346591                             0.310231      0.044986   \n",
       "max       1.000000                             1.000000      1.000000   \n",
       "\n",
       "       high.density.lipoprotein.cholesterol          GCS  dischargeDay  \\\n",
       "count                           1937.000000  1937.000000   1937.000000   \n",
       "mean                               0.397029     0.991869      0.069344   \n",
       "std                                0.123507     0.065514      0.065376   \n",
       "min                                0.000000     0.000000      0.000000   \n",
       "25%                                0.316176     1.000000      0.040984   \n",
       "50%                                0.386029     1.000000      0.057377   \n",
       "75%                                0.463235     1.000000      0.073770   \n",
       "max                                1.000000     1.000000      1.000000   \n",
       "\n",
       "            ageCat      outcome  \n",
       "count  1937.000000  1937.000000  \n",
       "mean      0.716277     0.398554  \n",
       "std       0.164166     0.489727  \n",
       "min       0.000000     0.000000  \n",
       "25%       0.571429     0.000000  \n",
       "50%       0.714286     0.000000  \n",
       "75%       0.857143     1.000000  \n",
       "max       1.000000     1.000000  \n",
       "\n",
       "[8 rows x 116 columns]"
      ]
     },
     "execution_count": 21,
     "metadata": {},
     "output_type": "execute_result"
    }
   ],
   "source": [
    "pd.DataFrame(df_cleaned.describe())"
   ]
  },
  {
   "cell_type": "markdown",
   "metadata": {
    "id": "lPWf5mmAYCUV",
    "slideshow": {
     "slide_type": "slide"
    }
   },
   "source": [
    "### Splitting the dataset (predictors and target variables)"
   ]
  },
  {
   "cell_type": "code",
   "execution_count": 22,
   "metadata": {
    "id": "Iq5oBQIfO1GG",
    "slideshow": {
     "slide_type": "-"
    }
   },
   "outputs": [],
   "source": [
    "# Extract the target variable and store it in a separate variable if needed\n",
    "Y = df_cleaned['outcome']\n",
    "\n",
    "# Drop the target variable from the DataFrame\n",
    "X = df_cleaned.drop(columns='outcome')"
   ]
  },
  {
   "cell_type": "code",
   "execution_count": 23,
   "metadata": {
    "colab": {
     "base_uri": "https://localhost:8080/"
    },
    "id": "AyexxXZzO6xM",
    "outputId": "f55a30c9-132a-4030-c3a8-4d649205b85b",
    "slideshow": {
     "slide_type": "-"
    }
   },
   "outputs": [
    {
     "data": {
      "text/plain": [
       "((1937, 115), (1937,))"
      ]
     },
     "execution_count": 23,
     "metadata": {},
     "output_type": "execute_result"
    }
   ],
   "source": [
    "X.shape, Y.shape"
   ]
  },
  {
   "cell_type": "code",
   "execution_count": 24,
   "metadata": {
    "colab": {
     "base_uri": "https://localhost:8080/"
    },
    "id": "to4Lb_bS4j30",
    "outputId": "e4693056-46f3-43ba-ad30-970296482686",
    "slideshow": {
     "slide_type": "skip"
    }
   },
   "outputs": [
    {
     "data": {
      "text/plain": [
       "0.0    1165\n",
       "1.0     772\n",
       "Name: outcome, dtype: int64"
      ]
     },
     "execution_count": 24,
     "metadata": {},
     "output_type": "execute_result"
    }
   ],
   "source": [
    "Y.value_counts()"
   ]
  },
  {
   "cell_type": "code",
   "execution_count": 25,
   "metadata": {
    "colab": {
     "base_uri": "https://localhost:8080/",
     "height": 0
    },
    "id": "J3GttdPO4iiO",
    "outputId": "c5e8e242-b445-47e9-ac5d-732449d85256",
    "slideshow": {
     "slide_type": "subslide"
    }
   },
   "outputs": [
    {
     "data": {
      "image/png": "[encoded data removed]",
      "text/plain": [
       "<Figure size 432x288 with 1 Axes>"
      ]
     },
     "metadata": {
      "needs_background": "light"
     },
     "output_type": "display_data"
    }
   ],
   "source": [
    "fig, ax = plt.subplots()\n",
    "\n",
    "x = [0, 1]\n",
    "y = [1165, 772]\n",
    "\n",
    "ax.bar(x, y, width=0.3)\n",
    "ax.set_xlabel('Outcome')\n",
    "ax.set_ylabel('Count')\n",
    "ax.set_xticks([0,1])\n",
    "ax.set_xticklabels([0,1], fontsize=12)\n",
    "\n",
    "for index, value in enumerate(y):\n",
    "    plt.text(x=int(index), y=value+1, s=str(value), ha='center')\n",
    "\n",
    "plt.tight_layout()"
   ]
  },
  {
   "cell_type": "markdown",
   "metadata": {
    "slideshow": {
     "slide_type": "-"
    }
   },
   "source": [
    "The imbalance in the binary class is about a 60%(1165 patients not readmitted within 6 months) - 40%(772 patients readmitted within 6 months) ratio split."
   ]
  },
  {
   "cell_type": "markdown",
   "metadata": {
    "id": "s801E4FZb_4H",
    "slideshow": {
     "slide_type": "slide"
    }
   },
   "source": [
    "### Train-test split"
   ]
  },
  {
   "cell_type": "code",
   "execution_count": 26,
   "metadata": {
    "colab": {
     "base_uri": "https://localhost:8080/"
    },
    "id": "ieRDB9aQbfrK",
    "outputId": "9a0afcb3-993c-4bb5-9e8d-739c27170bb9",
    "slideshow": {
     "slide_type": "-"
    }
   },
   "outputs": [
    {
     "data": {
      "text/plain": [
       "((1355, 115), (582, 115))"
      ]
     },
     "execution_count": 26,
     "metadata": {},
     "output_type": "execute_result"
    }
   ],
   "source": [
    "# building train/test datasets on a 70/30 ratio\n",
    "X_train, X_test, y_train, y_test = train_test_split(X, Y, test_size=0.30, random_state=123, stratify=Y, shuffle=True)\n",
    "X_train.shape, X_test.shape"
   ]
  },
  {
   "cell_type": "code",
   "execution_count": 27,
   "metadata": {
    "slideshow": {
     "slide_type": "-"
    }
   },
   "outputs": [
    {
     "data": {
      "text/plain": [
       "0.0    350\n",
       "1.0    232\n",
       "Name: outcome, dtype: int64"
      ]
     },
     "execution_count": 27,
     "metadata": {},
     "output_type": "execute_result"
    }
   ],
   "source": [
    "y_test.value_counts()"
   ]
  },
  {
   "cell_type": "markdown",
   "metadata": {
    "id": "t62Zq-rmft9k",
    "slideshow": {
     "slide_type": "slide"
    }
   },
   "source": [
    "### Baseline model: Decision tree, Random forest, Gradient boosting, and Multilayer perceptron classifier with all features"
   ]
  },
  {
   "cell_type": "code",
   "execution_count": 28,
   "metadata": {
    "id": "bl_IanSSE7Kw",
    "slideshow": {
     "slide_type": "-"
    }
   },
   "outputs": [],
   "source": [
    "# metrics\n",
    "from sklearn.metrics import accuracy_score\n",
    "from sklearn.metrics import f1_score\n",
    "from sklearn.metrics import classification_report"
   ]
  },
  {
   "cell_type": "markdown",
   "metadata": {
    "id": "R5rgzjv-JviQ",
    "slideshow": {
     "slide_type": "-"
    }
   },
   "source": [
    "**F1-Score:** In healthcare prediction tasks, the F1-score is valuable because it considers both precision and recall, making it suitable for imbalanced datasets. It provides a balanced measure of the model's performance, particularly in situations where one class is dominant over the other.\n",
    "\n",
    "**Accuracy:** Accuracy is commonly used for healthcare prediction, but it can be misleading in imbalanced datasets. It ignores the impact of misclassifying critical cases and is not suitable when classes have unequal proportions. Precision, Recall, and F1-score offer more informative insights for model performance in healthcare scenarios. Since f1-score takes into account both precesion and recall, we utilize f1."
   ]
  },
  {
   "cell_type": "markdown",
   "metadata": {
    "id": "Y8T_-bsni5pt",
    "slideshow": {
     "slide_type": "slide"
    }
   },
   "source": [
    "#### Decision Tree"
   ]
  },
  {
   "cell_type": "code",
   "execution_count": 29,
   "metadata": {
    "colab": {
     "base_uri": "https://localhost:8080/",
     "height": 74
    },
    "id": "QtBfvUe1biIK",
    "outputId": "0c83bc5a-e835-409d-869e-352a1dbc32e7",
    "slideshow": {
     "slide_type": "-"
    }
   },
   "outputs": [
    {
     "data": {
      "text/plain": [
       "DecisionTreeClassifier(random_state=123)"
      ]
     },
     "execution_count": 29,
     "metadata": {},
     "output_type": "execute_result"
    }
   ],
   "source": [
    "# loading the DT package from sklearn\n",
    "from sklearn.tree import DecisionTreeClassifier\n",
    "\n",
    "# initiating the classifier\n",
    "clf_dt = DecisionTreeClassifier(random_state=123)\n",
    "\n",
    "# fit the classifier to the training set\n",
    "clf_dt.fit(X_train, y_train)"
   ]
  },
  {
   "cell_type": "markdown",
   "metadata": {
    "id": "qi5dlibRkR_n",
    "slideshow": {
     "slide_type": "skip"
    }
   },
   "source": [
    "##### Evaluation"
   ]
  },
  {
   "cell_type": "code",
   "execution_count": 30,
   "metadata": {
    "colab": {
     "base_uri": "https://localhost:8080/"
    },
    "id": "rQHAGVi6kWPd",
    "outputId": "65cba67f-e9c7-47bd-f8f5-a27cd00c9d9d",
    "slideshow": {
     "slide_type": "skip"
    }
   },
   "outputs": [
    {
     "data": {
      "text/plain": [
       "(0.5240549828178694, 0.4118895966029724)"
      ]
     },
     "execution_count": 30,
     "metadata": {},
     "output_type": "execute_result"
    }
   ],
   "source": [
    "y_pred_dt = clf_dt.predict(X_test)\n",
    "\n",
    "acc_dt = accuracy_score(y_test, y_pred_dt)\n",
    "f1_dt = f1_score(y_test, y_pred_dt)\n",
    "\n",
    "acc_dt, f1_dt"
   ]
  },
  {
   "cell_type": "code",
   "execution_count": 165,
   "metadata": {
    "slideshow": {
     "slide_type": "-"
    }
   },
   "outputs": [
    {
     "data": {
      "image/png": "[encoded data removed]",
      "text/plain": [
       "<Figure size 432x288 with 2 Axes>"
      ]
     },
     "metadata": {
      "needs_background": "light"
     },
     "output_type": "display_data"
    }
   ],
   "source": [
    "# confusion matrix\n",
    "cm_dt = confusion_matrix(y_test, y_pred_dt)\n",
    "#Plot the confusion matrix.\n",
    "sns.heatmap(cm_dt,\n",
    "            annot=True,\n",
    "            fmt='g',\n",
    "            xticklabels=['0','1'],\n",
    "            yticklabels=['0','1'])\n",
    "plt.ylabel('Prediction',fontsize=13)\n",
    "plt.xlabel('Actual',fontsize=13)\n",
    "plt.title('Confusion Matrix (DT_Baseline)',fontsize=17)\n",
    "plt.show()"
   ]
  },
  {
   "cell_type": "code",
   "execution_count": 32,
   "metadata": {
    "slideshow": {
     "slide_type": "skip"
    }
   },
   "outputs": [
    {
     "name": "stdout",
     "output_type": "stream",
     "text": [
      "              precision    recall  f1-score   support\n",
      "\n",
      "           0       0.61      0.59      0.60       350\n",
      "           1       0.41      0.42      0.41       232\n",
      "\n",
      "    accuracy                           0.52       582\n",
      "   macro avg       0.51      0.51      0.51       582\n",
      "weighted avg       0.53      0.52      0.53       582\n",
      "\n"
     ]
    }
   ],
   "source": [
    "print(classification_report(y_test, y_pred_dt, target_names=['0', '1']))"
   ]
  },
  {
   "cell_type": "markdown",
   "metadata": {
    "id": "lgPKnO39jPK0",
    "slideshow": {
     "slide_type": "slide"
    }
   },
   "source": [
    "#### Random Forest"
   ]
  },
  {
   "cell_type": "code",
   "execution_count": 33,
   "metadata": {
    "colab": {
     "base_uri": "https://localhost:8080/",
     "height": 74
    },
    "id": "C7U1zN8tirrU",
    "outputId": "f6379770-d113-4e73-82c7-218e31a7518e",
    "slideshow": {
     "slide_type": "-"
    }
   },
   "outputs": [
    {
     "data": {
      "text/plain": [
       "RandomForestClassifier(random_state=123)"
      ]
     },
     "execution_count": 33,
     "metadata": {},
     "output_type": "execute_result"
    }
   ],
   "source": [
    "# loading the rf package from sklearn\n",
    "from sklearn.ensemble import RandomForestClassifier\n",
    "\n",
    "# initiating the classifier\n",
    "clf_rf = RandomForestClassifier(random_state=123)\n",
    "\n",
    "# fit the classifier to the training set\n",
    "clf_rf.fit(X_train, y_train)"
   ]
  },
  {
   "cell_type": "markdown",
   "metadata": {
    "id": "9N6hIvTTkh2T",
    "slideshow": {
     "slide_type": "skip"
    }
   },
   "source": [
    "##### Evaluation"
   ]
  },
  {
   "cell_type": "code",
   "execution_count": 34,
   "metadata": {
    "colab": {
     "base_uri": "https://localhost:8080/"
    },
    "id": "F5b8hWrPkAlz",
    "outputId": "c419bbae-d7b3-4f4d-d453-44dd7c3e99bf",
    "slideshow": {
     "slide_type": "skip"
    }
   },
   "outputs": [
    {
     "data": {
      "text/plain": [
       "(0.6254295532646048, 0.3699421965317919)"
      ]
     },
     "execution_count": 34,
     "metadata": {},
     "output_type": "execute_result"
    }
   ],
   "source": [
    "y_pred_rf = clf_rf.predict(X_test)\n",
    "\n",
    "acc_rf = accuracy_score(y_test, y_pred_rf)\n",
    "f1_rf = f1_score(y_test, y_pred_rf)\n",
    "\n",
    "acc_rf, f1_rf"
   ]
  },
  {
   "cell_type": "code",
   "execution_count": 35,
   "metadata": {
    "slideshow": {
     "slide_type": "-"
    }
   },
   "outputs": [
    {
     "data": {
      "image/png": "[encoded data removed]",
      "text/plain": [
       "<Figure size 432x288 with 2 Axes>"
      ]
     },
     "metadata": {
      "needs_background": "light"
     },
     "output_type": "display_data"
    }
   ],
   "source": [
    "# confusion matrix\n",
    "cm_rf = confusion_matrix(y_test, y_pred_rf)\n",
    "#Plot the confusion matrix.\n",
    "sns.heatmap(cm_rf,\n",
    "            annot=True,\n",
    "            fmt='g',\n",
    "            xticklabels=['0','1'],\n",
    "            yticklabels=['0','1'])\n",
    "plt.ylabel('Prediction',fontsize=13)\n",
    "plt.xlabel('Actual',fontsize=13)\n",
    "plt.title('Confusion Matrix (RF_Baseline)',fontsize=17)\n",
    "plt.show()"
   ]
  },
  {
   "cell_type": "code",
   "execution_count": 36,
   "metadata": {
    "slideshow": {
     "slide_type": "skip"
    }
   },
   "outputs": [
    {
     "name": "stdout",
     "output_type": "stream",
     "text": [
      "              precision    recall  f1-score   support\n",
      "\n",
      "           0       0.64      0.86      0.73       350\n",
      "           1       0.56      0.28      0.37       232\n",
      "\n",
      "    accuracy                           0.63       582\n",
      "   macro avg       0.60      0.57      0.55       582\n",
      "weighted avg       0.61      0.63      0.59       582\n",
      "\n"
     ]
    }
   ],
   "source": [
    "print(classification_report(y_test, y_pred_rf, target_names=['0', '1']))"
   ]
  },
  {
   "cell_type": "markdown",
   "metadata": {
    "id": "Wo2p4WXvmEyb",
    "slideshow": {
     "slide_type": "slide"
    }
   },
   "source": [
    "#### Gradient Boosting Classifier"
   ]
  },
  {
   "cell_type": "code",
   "execution_count": 37,
   "metadata": {
    "colab": {
     "base_uri": "https://localhost:8080/",
     "height": 74
    },
    "id": "koBp-6t7mIhK",
    "outputId": "18d3f417-22de-4d8a-f0fd-567e66e96cf9",
    "slideshow": {
     "slide_type": "-"
    }
   },
   "outputs": [
    {
     "data": {
      "text/plain": [
       "GradientBoostingClassifier(random_state=123)"
      ]
     },
     "execution_count": 37,
     "metadata": {},
     "output_type": "execute_result"
    }
   ],
   "source": [
    "# loading the svc package from sklearn\n",
    "from sklearn.ensemble import GradientBoostingClassifier\n",
    "\n",
    "# initiating the classifier\n",
    "clf_gb = GradientBoostingClassifier(random_state=123)\n",
    "\n",
    "# fit the classifier to the training data\n",
    "clf_gb.fit(X_train, y_train)"
   ]
  },
  {
   "cell_type": "markdown",
   "metadata": {
    "id": "3KvT5w6IoakV",
    "slideshow": {
     "slide_type": "subslide"
    }
   },
   "source": [
    "##### Evaluation"
   ]
  },
  {
   "cell_type": "code",
   "execution_count": 38,
   "metadata": {
    "colab": {
     "base_uri": "https://localhost:8080/"
    },
    "id": "ZdfoYSbhoeKr",
    "outputId": "bd07ba84-340a-4003-fa75-911d32f5ea85",
    "slideshow": {
     "slide_type": "skip"
    }
   },
   "outputs": [
    {
     "data": {
      "text/plain": [
       "(0.6219931271477663, 0.4300518134715026)"
      ]
     },
     "execution_count": 38,
     "metadata": {},
     "output_type": "execute_result"
    }
   ],
   "source": [
    "y_pred_gb = clf_gb.predict(X_test)\n",
    "\n",
    "acc_gb = accuracy_score(y_test, y_pred_gb)\n",
    "f1_gb = f1_score(y_test, y_pred_gb)\n",
    "\n",
    "acc_gb, f1_gb"
   ]
  },
  {
   "cell_type": "code",
   "execution_count": 166,
   "metadata": {
    "slideshow": {
     "slide_type": "-"
    }
   },
   "outputs": [
    {
     "data": {
      "image/png": "[encoded data removed]",
      "text/plain": [
       "<Figure size 432x288 with 2 Axes>"
      ]
     },
     "metadata": {
      "needs_background": "light"
     },
     "output_type": "display_data"
    }
   ],
   "source": [
    "# confusion matrix\n",
    "cm_gb = confusion_matrix(y_test, y_pred_gb)\n",
    "#Plot the confusion matrix.\n",
    "sns.heatmap(cm_gb,\n",
    "            annot=True,\n",
    "            fmt='g',\n",
    "            xticklabels=['0','1'],\n",
    "            yticklabels=['0','1'])\n",
    "plt.ylabel('Prediction',fontsize=13)\n",
    "plt.xlabel('Actual',fontsize=13)\n",
    "plt.title('Confusion Matrix (GB_Baseline)',fontsize=17)\n",
    "plt.show()"
   ]
  },
  {
   "cell_type": "code",
   "execution_count": 40,
   "metadata": {
    "slideshow": {
     "slide_type": "skip"
    }
   },
   "outputs": [
    {
     "name": "stdout",
     "output_type": "stream",
     "text": [
      "              precision    recall  f1-score   support\n",
      "\n",
      "           0       0.65      0.80      0.72       350\n",
      "           1       0.54      0.36      0.43       232\n",
      "\n",
      "    accuracy                           0.62       582\n",
      "   macro avg       0.60      0.58      0.57       582\n",
      "weighted avg       0.61      0.62      0.60       582\n",
      "\n"
     ]
    }
   ],
   "source": [
    "print(classification_report(y_test, y_pred_gb, target_names=['0', '1']))"
   ]
  },
  {
   "cell_type": "markdown",
   "metadata": {
    "slideshow": {
     "slide_type": "slide"
    }
   },
   "source": [
    "#### Multilayer Perceptron Classifier"
   ]
  },
  {
   "cell_type": "code",
   "execution_count": 41,
   "metadata": {
    "slideshow": {
     "slide_type": "-"
    }
   },
   "outputs": [
    {
     "data": {
      "text/plain": [
       "MLPClassifier(random_state=123)"
      ]
     },
     "execution_count": 41,
     "metadata": {},
     "output_type": "execute_result"
    }
   ],
   "source": [
    "# loading the mlp package from sklearn\n",
    "from sklearn.neural_network import MLPClassifier\n",
    "\n",
    "# initiating the classifier\n",
    "clf_mlp = MLPClassifier(random_state=123)\n",
    "\n",
    "# fit the classifier to the training data\n",
    "clf_mlp.fit(X_train, y_train)"
   ]
  },
  {
   "cell_type": "markdown",
   "metadata": {
    "slideshow": {
     "slide_type": "skip"
    }
   },
   "source": [
    "##### Evaluation"
   ]
  },
  {
   "cell_type": "code",
   "execution_count": 42,
   "metadata": {
    "slideshow": {
     "slide_type": "skip"
    }
   },
   "outputs": [
    {
     "data": {
      "text/plain": [
       "(0.6151202749140894, 0.44)"
      ]
     },
     "execution_count": 42,
     "metadata": {},
     "output_type": "execute_result"
    }
   ],
   "source": [
    "y_pred_mlp = clf_mlp.predict(X_test)\n",
    "\n",
    "acc_mlp = accuracy_score(y_test, y_pred_mlp)\n",
    "f1_mlp = f1_score(y_test, y_pred_mlp)\n",
    "\n",
    "acc_mlp, f1_mlp"
   ]
  },
  {
   "cell_type": "code",
   "execution_count": 167,
   "metadata": {
    "slideshow": {
     "slide_type": "-"
    }
   },
   "outputs": [
    {
     "data": {
      "image/png": "[encoded data removed]",
      "text/plain": [
       "<Figure size 432x288 with 2 Axes>"
      ]
     },
     "metadata": {
      "needs_background": "light"
     },
     "output_type": "display_data"
    }
   ],
   "source": [
    "# confusion matrix\n",
    "cm_mlp = confusion_matrix(y_test, y_pred_mlp)\n",
    "#Plot the confusion matrix.\n",
    "sns.heatmap(cm_mlp,\n",
    "            annot=True,\n",
    "            fmt='g',\n",
    "            xticklabels=['0','1'],\n",
    "            yticklabels=['0','1'])\n",
    "plt.ylabel('Prediction',fontsize=13)\n",
    "plt.xlabel('Actual',fontsize=13)\n",
    "plt.title('Confusion Matrix (MLP_Baseline)',fontsize=17)\n",
    "plt.show()"
   ]
  },
  {
   "cell_type": "code",
   "execution_count": 44,
   "metadata": {
    "slideshow": {
     "slide_type": "skip"
    }
   },
   "outputs": [
    {
     "name": "stdout",
     "output_type": "stream",
     "text": [
      "              precision    recall  f1-score   support\n",
      "\n",
      "           0       0.65      0.80      0.72       350\n",
      "           1       0.54      0.36      0.43       232\n",
      "\n",
      "    accuracy                           0.62       582\n",
      "   macro avg       0.60      0.58      0.57       582\n",
      "weighted avg       0.61      0.62      0.60       582\n",
      "\n"
     ]
    }
   ],
   "source": [
    "print(classification_report(y_test, y_pred_gb, target_names=['0', '1']))"
   ]
  },
  {
   "cell_type": "markdown",
   "metadata": {
    "id": "YybHl7rczvZw",
    "slideshow": {
     "slide_type": "slide"
    }
   },
   "source": [
    "### Feature Selection (Pre-processing techniques)"
   ]
  },
  {
   "cell_type": "markdown",
   "metadata": {
    "id": "Du9Z0POyzsfB",
    "slideshow": {
     "slide_type": "subslide"
    }
   },
   "source": [
    "#### Correlation Analysis (Pearson)/Pairwise correlation"
   ]
  },
  {
   "cell_type": "code",
   "execution_count": 45,
   "metadata": {
    "id": "xuFbBksw6NA6",
    "slideshow": {
     "slide_type": "-"
    }
   },
   "outputs": [],
   "source": [
    "# using pearson correlation to identify features that are highly correlated\n",
    "corr_mat = X_train.corr(method='pearson')\n",
    "\n",
    "# the amount of features makes it hard to analyse"
   ]
  },
  {
   "cell_type": "code",
   "execution_count": 46,
   "metadata": {
    "id": "ggKBvMRvoiJu",
    "slideshow": {
     "slide_type": "-"
    }
   },
   "outputs": [],
   "source": [
    "def corr_analysis(dataset, threshld):\n",
    "  col_corr = set() # list of all the correlated features\n",
    "\n",
    "  corr_matrix = dataset.corr(method='pearson') # using the pearson correlation method\n",
    "\n",
    "  for i in range(len(corr_matrix.columns)):\n",
    "\n",
    "        for j in range(i):\n",
    "\n",
    "            if abs(corr_matrix.iloc[i, j]) > threshld: # we are interested in absolute coeff value\n",
    "\n",
    "                # getting the name of column\n",
    "                colname = corr_matrix.columns[i]\n",
    "\n",
    "                # adding the feature to the list\n",
    "                col_corr.add(colname)\n",
    "\n",
    "  return col_corr"
   ]
  },
  {
   "cell_type": "code",
   "execution_count": 47,
   "metadata": {
    "colab": {
     "base_uri": "https://localhost:8080/"
    },
    "id": "hEMEH2BkqD8l",
    "outputId": "4e7e8c1d-2437-434a-9a2e-904535567fcc",
    "slideshow": {
     "slide_type": "subslide"
    }
   },
   "outputs": [
    {
     "data": {
      "text/plain": [
       "22"
      ]
     },
     "execution_count": 47,
     "metadata": {},
     "output_type": "execute_result"
    }
   ],
   "source": [
    "# applying the function on the training set\n",
    "corr_feats = corr_analysis(X_train, 0.7)\n",
    "\n",
    "# convert the set into a list\n",
    "corr_feats = list(corr_feats)\n",
    "\n",
    "# number of features highly correlated\n",
    "len(corr_feats)"
   ]
  },
  {
   "cell_type": "code",
   "execution_count": 48,
   "metadata": {
    "colab": {
     "base_uri": "https://localhost:8080/"
    },
    "id": "BR9BF8peqlik",
    "outputId": "d4de3865-4d2f-48bc-cc7a-c3e19da1bb82",
    "slideshow": {
     "slide_type": "skip"
    }
   },
   "outputs": [
    {
     "data": {
      "text/plain": [
       "['total.bilirubin',\n",
       " 'eosinophil.count',\n",
       " 'basophil.count',\n",
       " 'direct.bilirubin',\n",
       " 'platelet.hematocrit',\n",
       " 'cystatin',\n",
       " 'creatine.kinase.isoenzyme',\n",
       " 'globulin',\n",
       " 'mean.hemoglobin.volume',\n",
       " 'lactate.dehydrogenase',\n",
       " 'hemoglobin',\n",
       " 'verbal.response',\n",
       " 'movement',\n",
       " 'prothrombin.time.ratio',\n",
       " 'GCS',\n",
       " 'map',\n",
       " 'respiratory.support.',\n",
       " 'neutrophil.count',\n",
       " 'total.protein',\n",
       " 'low.density.lipoprotein.cholesterol',\n",
       " 'hematocrit',\n",
       " 'sodium']"
      ]
     },
     "execution_count": 48,
     "metadata": {},
     "output_type": "execute_result"
    }
   ],
   "source": [
    "# list of all features that are highly correlated\n",
    "corr_feats"
   ]
  },
  {
   "cell_type": "code",
   "execution_count": 49,
   "metadata": {
    "colab": {
     "base_uri": "https://localhost:8080/"
    },
    "id": "hUlVoXxYtw7R",
    "outputId": "3140f977-3771-4543-a763-a47e835a97e8",
    "slideshow": {
     "slide_type": "-"
    }
   },
   "outputs": [
    {
     "data": {
      "text/plain": [
       "((1355, 93), (582, 93))"
      ]
     },
     "execution_count": 49,
     "metadata": {},
     "output_type": "execute_result"
    }
   ],
   "source": [
    "# creating new versions of the train and test set by dropping the highly correlated features\n",
    "X_train_v1, X_test_v1 = X_train.drop(corr_feats, axis=1), X_test.drop(corr_feats, axis=1)\n",
    "\n",
    "X_train_v1.shape, X_test_v1.shape"
   ]
  },
  {
   "cell_type": "markdown",
   "metadata": {
    "id": "VBV3qbaHuvIS",
    "slideshow": {
     "slide_type": "slide"
    }
   },
   "source": [
    "##### Re-training the models(correlation analysis)"
   ]
  },
  {
   "cell_type": "code",
   "execution_count": 50,
   "metadata": {
    "colab": {
     "base_uri": "https://localhost:8080/"
    },
    "id": "5wZmNG-0u5Yd",
    "outputId": "053daff7-0025-4b2d-a2ec-08c5b88433b0",
    "slideshow": {
     "slide_type": "subslide"
    }
   },
   "outputs": [
    {
     "data": {
      "text/plain": [
       "(0.5773195876288659, 0.4788135593220339)"
      ]
     },
     "execution_count": 50,
     "metadata": {},
     "output_type": "execute_result"
    }
   ],
   "source": [
    "# DT Classifier\n",
    "clf_dt_corr = DecisionTreeClassifier(random_state=123)\n",
    "\n",
    "clf_dt_corr.fit(X_train_v1, y_train)\n",
    "\n",
    "y_pred_dt_corr = clf_dt_corr.predict(X_test_v1)\n",
    "\n",
    "# evaluation\n",
    "acc_dt_corr = accuracy_score(y_test, y_pred_dt_corr)\n",
    "f1_dt_corr = f1_score(y_test, y_pred_dt_corr)\n",
    "\n",
    "acc_dt_corr, f1_dt_corr"
   ]
  },
  {
   "cell_type": "code",
   "execution_count": 51,
   "metadata": {
    "slideshow": {
     "slide_type": "-"
    }
   },
   "outputs": [
    {
     "data": {
      "image/png": "[encoded data removed]",
      "text/plain": [
       "<Figure size 432x288 with 2 Axes>"
      ]
     },
     "metadata": {
      "needs_background": "light"
     },
     "output_type": "display_data"
    }
   ],
   "source": [
    "# confusion matrix\n",
    "cm_dt_corr = confusion_matrix(y_test, y_pred_dt_corr)\n",
    "\n",
    "#Plot the confusion matrix.\n",
    "sns.heatmap(cm_dt_corr,\n",
    "            annot=True,\n",
    "            fmt='g',\n",
    "            xticklabels=['0','1'],\n",
    "            yticklabels=['0','1'])\n",
    "plt.ylabel('Prediction',fontsize=13)\n",
    "plt.xlabel('Actual',fontsize=13)\n",
    "plt.title('Confusion Matrix (DT_Corr)',fontsize=17)\n",
    "plt.show()"
   ]
  },
  {
   "cell_type": "code",
   "execution_count": 52,
   "metadata": {
    "slideshow": {
     "slide_type": "skip"
    }
   },
   "outputs": [
    {
     "name": "stdout",
     "output_type": "stream",
     "text": [
      "              precision    recall  f1-score   support\n",
      "\n",
      "           0       0.65      0.64      0.64       350\n",
      "           1       0.47      0.49      0.48       232\n",
      "\n",
      "    accuracy                           0.58       582\n",
      "   macro avg       0.56      0.56      0.56       582\n",
      "weighted avg       0.58      0.58      0.58       582\n",
      "\n"
     ]
    }
   ],
   "source": [
    "print(classification_report(y_test, y_pred_dt_corr, target_names=['0', '1']))"
   ]
  },
  {
   "cell_type": "code",
   "execution_count": 53,
   "metadata": {
    "colab": {
     "base_uri": "https://localhost:8080/"
    },
    "id": "mjUkVW7XwfYY",
    "outputId": "46e4123b-de18-468d-c275-cfdaad067451",
    "slideshow": {
     "slide_type": "subslide"
    }
   },
   "outputs": [
    {
     "data": {
      "text/plain": [
       "(0.6357388316151202, 0.35757575757575755)"
      ]
     },
     "execution_count": 53,
     "metadata": {},
     "output_type": "execute_result"
    }
   ],
   "source": [
    "# RandomForest Classifier\n",
    "clf_rf_corr = RandomForestClassifier(random_state=123)\n",
    "\n",
    "clf_rf_corr.fit(X_train_v1, y_train)\n",
    "\n",
    "y_pred_rf_corr = clf_rf_corr.predict(X_test_v1)\n",
    "\n",
    "# evaluation\n",
    "acc_rf_corr = accuracy_score(y_test, y_pred_rf_corr)\n",
    "f1_rf_corr = f1_score(y_test, y_pred_rf_corr)\n",
    "\n",
    "acc_rf_corr, f1_rf_corr"
   ]
  },
  {
   "cell_type": "code",
   "execution_count": 54,
   "metadata": {
    "slideshow": {
     "slide_type": "-"
    }
   },
   "outputs": [
    {
     "data": {
      "image/png": "[encoded data removed]",
      "text/plain": [
       "<Figure size 432x288 with 2 Axes>"
      ]
     },
     "metadata": {
      "needs_background": "light"
     },
     "output_type": "display_data"
    }
   ],
   "source": [
    "# confusion matrix\n",
    "cm_rf_corr = confusion_matrix(y_test, y_pred_rf_corr)\n",
    "\n",
    "#Plot the confusion matrix.\n",
    "sns.heatmap(cm_rf_corr,\n",
    "            annot=True,\n",
    "            fmt='g',\n",
    "            xticklabels=['0','1'],\n",
    "            yticklabels=['0','1'])\n",
    "plt.ylabel('Prediction',fontsize=13)\n",
    "plt.xlabel('Actual',fontsize=13)\n",
    "plt.title('Confusion Matrix (RF_Corr)',fontsize=17)\n",
    "plt.show()"
   ]
  },
  {
   "cell_type": "code",
   "execution_count": 55,
   "metadata": {
    "slideshow": {
     "slide_type": "skip"
    }
   },
   "outputs": [
    {
     "name": "stdout",
     "output_type": "stream",
     "text": [
      "              precision    recall  f1-score   support\n",
      "\n",
      "           0       0.64      0.89      0.75       350\n",
      "           1       0.60      0.25      0.36       232\n",
      "\n",
      "    accuracy                           0.64       582\n",
      "   macro avg       0.62      0.57      0.55       582\n",
      "weighted avg       0.63      0.64      0.59       582\n",
      "\n"
     ]
    }
   ],
   "source": [
    "print(classification_report(y_test, y_pred_rf_corr, target_names=['0', '1']))"
   ]
  },
  {
   "cell_type": "code",
   "execution_count": 56,
   "metadata": {
    "colab": {
     "base_uri": "https://localhost:8080/"
    },
    "id": "NrCsumXjxHTw",
    "outputId": "0b060bab-a23d-4f0f-83d0-3408a7994aba",
    "slideshow": {
     "slide_type": "subslide"
    }
   },
   "outputs": [
    {
     "data": {
      "text/plain": [
       "(0.6288659793814433, 0.4404145077720207)"
      ]
     },
     "execution_count": 56,
     "metadata": {},
     "output_type": "execute_result"
    }
   ],
   "source": [
    "# GBClassifier\n",
    "clf_gb_corr = GradientBoostingClassifier(random_state=123)\n",
    "\n",
    "clf_gb_corr.fit(X_train_v1, y_train)\n",
    "\n",
    "y_pred_gb_corr = clf_gb_corr.predict(X_test_v1)\n",
    "\n",
    "# evaluation\n",
    "acc_gb_corr = accuracy_score(y_test, y_pred_gb_corr)\n",
    "f1_gb_corr = f1_score(y_test, y_pred_gb_corr)\n",
    "\n",
    "acc_gb_corr, f1_gb_corr"
   ]
  },
  {
   "cell_type": "code",
   "execution_count": 57,
   "metadata": {
    "slideshow": {
     "slide_type": "-"
    }
   },
   "outputs": [
    {
     "data": {
      "image/png": "[encoded data removed]",
      "text/plain": [
       "<Figure size 432x288 with 2 Axes>"
      ]
     },
     "metadata": {
      "needs_background": "light"
     },
     "output_type": "display_data"
    }
   ],
   "source": [
    "# confusion matrix\n",
    "cm_gb_corr = confusion_matrix(y_test, y_pred_gb_corr)\n",
    "\n",
    "#Plot the confusion matrix.\n",
    "sns.heatmap(cm_gb_corr,\n",
    "            annot=True,\n",
    "            fmt='g',\n",
    "            xticklabels=['0','1'],\n",
    "            yticklabels=['0','1'])\n",
    "plt.ylabel('Prediction',fontsize=13)\n",
    "plt.xlabel('Actual',fontsize=13)\n",
    "plt.title('Confusion Matrix (GB_Corr)',fontsize=17)\n",
    "plt.show()"
   ]
  },
  {
   "cell_type": "code",
   "execution_count": 58,
   "metadata": {
    "slideshow": {
     "slide_type": "skip"
    }
   },
   "outputs": [
    {
     "name": "stdout",
     "output_type": "stream",
     "text": [
      "              precision    recall  f1-score   support\n",
      "\n",
      "           0       0.66      0.80      0.72       350\n",
      "           1       0.55      0.37      0.44       232\n",
      "\n",
      "    accuracy                           0.63       582\n",
      "   macro avg       0.60      0.58      0.58       582\n",
      "weighted avg       0.61      0.63      0.61       582\n",
      "\n"
     ]
    }
   ],
   "source": [
    "print(classification_report(y_test, y_pred_gb_corr, target_names=['0', '1']))"
   ]
  },
  {
   "cell_type": "code",
   "execution_count": 59,
   "metadata": {
    "slideshow": {
     "slide_type": "subslide"
    }
   },
   "outputs": [
    {
     "data": {
      "text/plain": [
       "(0.6219931271477663, 0.48113207547169806)"
      ]
     },
     "execution_count": 59,
     "metadata": {},
     "output_type": "execute_result"
    }
   ],
   "source": [
    "# MLPClassifier\n",
    "clf_mlp_corr = MLPClassifier(random_state=123)\n",
    "\n",
    "clf_mlp_corr.fit(X_train_v1, y_train)\n",
    "\n",
    "y_pred_mlp_corr = clf_mlp_corr.predict(X_test_v1)\n",
    "\n",
    "# evaluation\n",
    "acc_mlp_corr = accuracy_score(y_test, y_pred_mlp_corr)\n",
    "f1_mlp_corr = f1_score(y_test, y_pred_mlp_corr)\n",
    "\n",
    "acc_mlp_corr, f1_mlp_corr"
   ]
  },
  {
   "cell_type": "code",
   "execution_count": 60,
   "metadata": {
    "slideshow": {
     "slide_type": "-"
    }
   },
   "outputs": [
    {
     "data": {
      "image/png": "[encoded data removed]",
      "text/plain": [
       "<Figure size 432x288 with 2 Axes>"
      ]
     },
     "metadata": {
      "needs_background": "light"
     },
     "output_type": "display_data"
    }
   ],
   "source": [
    "# confusion matrix\n",
    "cm_mlp_corr = confusion_matrix(y_test, y_pred_mlp_corr)\n",
    "\n",
    "#Plot the confusion matrix.\n",
    "sns.heatmap(cm_mlp_corr,\n",
    "            annot=True,\n",
    "            fmt='g',\n",
    "            xticklabels=['0','1'],\n",
    "            yticklabels=['0','1'])\n",
    "plt.ylabel('Prediction',fontsize=13)\n",
    "plt.xlabel('Actual',fontsize=13)\n",
    "plt.title('Confusion Matrix (MLP_Corr)',fontsize=17)\n",
    "plt.show()\n"
   ]
  },
  {
   "cell_type": "code",
   "execution_count": 61,
   "metadata": {
    "slideshow": {
     "slide_type": "skip"
    }
   },
   "outputs": [
    {
     "name": "stdout",
     "output_type": "stream",
     "text": [
      "              precision    recall  f1-score   support\n",
      "\n",
      "           0       0.67      0.74      0.70       350\n",
      "           1       0.53      0.44      0.48       232\n",
      "\n",
      "    accuracy                           0.62       582\n",
      "   macro avg       0.60      0.59      0.59       582\n",
      "weighted avg       0.61      0.62      0.61       582\n",
      "\n"
     ]
    }
   ],
   "source": [
    "print(classification_report(y_test, y_pred_mlp_corr, target_names=['0', '1']))"
   ]
  },
  {
   "cell_type": "markdown",
   "metadata": {
    "id": "Ygp22t5B_bN9",
    "slideshow": {
     "slide_type": "slide"
    }
   },
   "source": [
    "#### Mutual Information Gain (K-best features)"
   ]
  },
  {
   "cell_type": "code",
   "execution_count": 62,
   "metadata": {
    "id": "Ux7trLrR-jjB",
    "slideshow": {
     "slide_type": "-"
    }
   },
   "outputs": [],
   "source": [
    "# loading required packages from sklearn\n",
    "from sklearn.feature_selection import mutual_info_classif\n",
    "from sklearn.feature_selection import SelectKBest\n",
    "\n",
    "# determine the mutual information\n",
    "mutual_info = mutual_info_classif(X_train, y_train)"
   ]
  },
  {
   "cell_type": "code",
   "execution_count": 63,
   "metadata": {
    "colab": {
     "base_uri": "https://localhost:8080/"
    },
    "id": "0HCY88FB_Ixt",
    "outputId": "65ca7853-df59-4ba9-e2e8-3114259e7cbf",
    "slideshow": {
     "slide_type": "skip"
    }
   },
   "outputs": [
    {
     "data": {
      "text/plain": [
       "numpy.ndarray"
      ]
     },
     "execution_count": 63,
     "metadata": {},
     "output_type": "execute_result"
    }
   ],
   "source": [
    "type(mutual_info)"
   ]
  },
  {
   "cell_type": "code",
   "execution_count": 64,
   "metadata": {
    "colab": {
     "base_uri": "https://localhost:8080/"
    },
    "id": "RqaRIs3EJoTR",
    "outputId": "02712e6e-5a5e-4527-94aa-6f8cc1778337",
    "slideshow": {
     "slide_type": "skip"
    }
   },
   "outputs": [
    {
     "data": {
      "text/plain": [
       "cystatin                                                   0.039266\n",
       "urea                                                       0.037374\n",
       "mean.corpuscular.volume                                    0.036805\n",
       "prothrombin.time.ratio                                     0.036465\n",
       "mean.hemoglobin.volume                                     0.031337\n",
       "                                                             ...   \n",
       "outcome.during.hospitalization                             0.000000\n",
       "oxygen.inhalation                                          0.000000\n",
       "respiratory.support.                                       0.000000\n",
       "eye.opening                                                0.000000\n",
       "standard.deviation.of.red.blood.cell.distribution.width    0.000000\n",
       "Length: 115, dtype: float64"
      ]
     },
     "execution_count": 64,
     "metadata": {},
     "output_type": "execute_result"
    }
   ],
   "source": [
    "# turn the array into a series so as to access the index\n",
    "mutual_info = pd.Series(mutual_info)\n",
    "\n",
    "# assign the columns in the training set as the index\n",
    "mutual_info.index = X_train.columns\n",
    "\n",
    "# sorting in descending order (highes to lowest)\n",
    "mutual_info.sort_values(ascending=False)"
   ]
  },
  {
   "cell_type": "code",
   "execution_count": 65,
   "metadata": {
    "colab": {
     "base_uri": "https://localhost:8080/",
     "height": 458
    },
    "id": "-XfSHQ1n6y-n",
    "outputId": "bf28b376-4570-48c4-8b37-321a8366b1cf",
    "slideshow": {
     "slide_type": "subslide"
    }
   },
   "outputs": [
    {
     "data": {
      "text/plain": [
       "<AxesSubplot:>"
      ]
     },
     "execution_count": 65,
     "metadata": {},
     "output_type": "execute_result"
    },
    {
     "data": {
      "image/png": "[encoded data removed]",
      "text/plain": [
       "<Figure size 1440x576 with 1 Axes>"
      ]
     },
     "metadata": {
      "needs_background": "light"
     },
     "output_type": "display_data"
    }
   ],
   "source": [
    "# plot of the ordered mutual_info values per feature\n",
    "mutual_info.sort_values(ascending=False).plot.bar(figsize=(20, 8))"
   ]
  },
  {
   "cell_type": "code",
   "execution_count": 66,
   "metadata": {
    "colab": {
     "base_uri": "https://localhost:8080/"
    },
    "id": "jAZ861HE7k5H",
    "outputId": "271510b2-eeaf-4655-a721-a324649bb0f9",
    "slideshow": {
     "slide_type": "subslide"
    }
   },
   "outputs": [
    {
     "data": {
      "text/plain": [
       "58"
      ]
     },
     "execution_count": 66,
     "metadata": {},
     "output_type": "execute_result"
    }
   ],
   "source": [
    "# Next we select the top 58 important features\n",
    "sel_top_cols = SelectKBest(mutual_info_classif, k=58)\n",
    "sel_top_cols.fit(X_train, y_train)\n",
    "col_names_IG = X_train.columns[sel_top_cols.get_support()]\n",
    "len(col_names_IG)"
   ]
  },
  {
   "cell_type": "code",
   "execution_count": 67,
   "metadata": {
    "colab": {
     "base_uri": "https://localhost:8080/"
    },
    "id": "s3JuK7Rg8jyu",
    "outputId": "3c845bda-4594-4358-e270-0d55e531ff19",
    "slideshow": {
     "slide_type": "-"
    }
   },
   "outputs": [
    {
     "data": {
      "text/plain": [
       "((1355, 58), (582, 58))"
      ]
     },
     "execution_count": 67,
     "metadata": {},
     "output_type": "execute_result"
    }
   ],
   "source": [
    "# creating new versions of the train and test set by using the selected features\n",
    "X_train_v2, X_test_v2 = X_train[col_names_IG], X_test[col_names_IG]\n",
    "\n",
    "X_train_v2.shape, X_test_v2.shape"
   ]
  },
  {
   "cell_type": "markdown",
   "metadata": {
    "id": "K5cqeZmb9D2I",
    "slideshow": {
     "slide_type": "slide"
    }
   },
   "source": [
    "##### Re-training the models(Mutual Information Gain)"
   ]
  },
  {
   "cell_type": "code",
   "execution_count": 68,
   "metadata": {
    "colab": {
     "base_uri": "https://localhost:8080/"
    },
    "id": "tFv9Ikxt88Hl",
    "outputId": "29fd7b5c-ffb9-44f0-84e4-7d9d85815210",
    "slideshow": {
     "slide_type": "subslide"
    }
   },
   "outputs": [
    {
     "data": {
      "text/plain": [
       "(0.5103092783505154, 0.39490445859872614)"
      ]
     },
     "execution_count": 68,
     "metadata": {},
     "output_type": "execute_result"
    }
   ],
   "source": [
    "# DT Classifier\n",
    "clf_dt_IG = DecisionTreeClassifier(random_state=123)\n",
    "\n",
    "clf_dt_IG.fit(X_train_v2, y_train)\n",
    "\n",
    "y_pred_dt_IG = clf_dt_IG.predict(X_test_v2)\n",
    "\n",
    "# evaluation\n",
    "acc_dt_IG = accuracy_score(y_test, y_pred_dt_IG)\n",
    "f1_dt_IG = f1_score(y_test, y_pred_dt_IG)\n",
    "\n",
    "acc_dt_IG, f1_dt_IG"
   ]
  },
  {
   "cell_type": "code",
   "execution_count": 69,
   "metadata": {
    "slideshow": {
     "slide_type": "-"
    }
   },
   "outputs": [
    {
     "data": {
      "image/png": "[encoded data removed]",
      "text/plain": [
       "<Figure size 432x288 with 2 Axes>"
      ]
     },
     "metadata": {
      "needs_background": "light"
     },
     "output_type": "display_data"
    }
   ],
   "source": [
    "# confusion matrix\n",
    "cm_dt_IG = confusion_matrix(y_test, y_pred_dt_IG)\n",
    "\n",
    "#Plot the confusion matrix.\n",
    "sns.heatmap(cm_dt_IG,\n",
    "            annot=True,\n",
    "            fmt='g',\n",
    "            xticklabels=['0','1'],\n",
    "            yticklabels=['0','1'])\n",
    "plt.ylabel('Prediction',fontsize=13)\n",
    "plt.xlabel('Actual',fontsize=13)\n",
    "plt.title('Confusion Matrix (DT_IG)',fontsize=17)\n",
    "plt.show()"
   ]
  },
  {
   "cell_type": "code",
   "execution_count": 70,
   "metadata": {
    "slideshow": {
     "slide_type": "skip"
    }
   },
   "outputs": [
    {
     "name": "stdout",
     "output_type": "stream",
     "text": [
      "              precision    recall  f1-score   support\n",
      "\n",
      "           0       0.59      0.58      0.59       350\n",
      "           1       0.39      0.40      0.39       232\n",
      "\n",
      "    accuracy                           0.51       582\n",
      "   macro avg       0.49      0.49      0.49       582\n",
      "weighted avg       0.51      0.51      0.51       582\n",
      "\n"
     ]
    }
   ],
   "source": [
    "print(classification_report(y_test, y_pred_dt_IG, target_names=['0', '1']))"
   ]
  },
  {
   "cell_type": "code",
   "execution_count": 71,
   "metadata": {
    "colab": {
     "base_uri": "https://localhost:8080/"
    },
    "id": "RNpL7JHO9xvC",
    "outputId": "9aa56364-0eb2-4a43-d27c-bd0d04437610",
    "slideshow": {
     "slide_type": "subslide"
    }
   },
   "outputs": [
    {
     "data": {
      "text/plain": [
       "(0.6305841924398625, 0.3657817109144542)"
      ]
     },
     "execution_count": 71,
     "metadata": {},
     "output_type": "execute_result"
    }
   ],
   "source": [
    "# RandomForest Classifier\n",
    "clf_rf_IG = RandomForestClassifier(random_state=123)\n",
    "\n",
    "clf_rf_IG.fit(X_train_v2, y_train)\n",
    "\n",
    "y_pred_rf_IG = clf_rf_IG.predict(X_test_v2)\n",
    "\n",
    "# evaluation\n",
    "acc_rf_IG = accuracy_score(y_test, y_pred_rf_IG)\n",
    "f1_rf_IG = f1_score(y_test, y_pred_rf_IG)\n",
    "\n",
    "acc_rf_IG, f1_rf_IG"
   ]
  },
  {
   "cell_type": "code",
   "execution_count": 72,
   "metadata": {
    "slideshow": {
     "slide_type": "-"
    }
   },
   "outputs": [
    {
     "data": {
      "image/png": "[encoded data removed]",
      "text/plain": [
       "<Figure size 432x288 with 2 Axes>"
      ]
     },
     "metadata": {
      "needs_background": "light"
     },
     "output_type": "display_data"
    }
   ],
   "source": [
    "# confusion matrix\n",
    "cm_rf_IG = confusion_matrix(y_test, y_pred_rf_IG)\n",
    "\n",
    "#Plot the confusion matrix.\n",
    "sns.heatmap(cm_rf_IG,\n",
    "            annot=True,\n",
    "            fmt='g',\n",
    "            xticklabels=['0','1'],\n",
    "            yticklabels=['0','1'])\n",
    "plt.ylabel('Prediction',fontsize=13)\n",
    "plt.xlabel('Actual',fontsize=13)\n",
    "plt.title('Confusion Matrix (RF_IG)',fontsize=17)\n",
    "plt.show()"
   ]
  },
  {
   "cell_type": "code",
   "execution_count": 73,
   "metadata": {
    "slideshow": {
     "slide_type": "skip"
    }
   },
   "outputs": [
    {
     "name": "stdout",
     "output_type": "stream",
     "text": [
      "              precision    recall  f1-score   support\n",
      "\n",
      "           0       0.64      0.87      0.74       350\n",
      "           1       0.58      0.27      0.37       232\n",
      "\n",
      "    accuracy                           0.63       582\n",
      "   macro avg       0.61      0.57      0.55       582\n",
      "weighted avg       0.62      0.63      0.59       582\n",
      "\n"
     ]
    }
   ],
   "source": [
    "print(classification_report(y_test, y_pred_rf_IG, target_names=['0', '1']))"
   ]
  },
  {
   "cell_type": "code",
   "execution_count": 74,
   "metadata": {
    "colab": {
     "base_uri": "https://localhost:8080/"
    },
    "id": "BKpshgM6-GVf",
    "outputId": "df9d5f2b-c115-40d1-be31-6c237c01a198",
    "slideshow": {
     "slide_type": "subslide"
    }
   },
   "outputs": [
    {
     "data": {
      "text/plain": [
       "(0.6443298969072165, 0.4759493670886076)"
      ]
     },
     "execution_count": 74,
     "metadata": {},
     "output_type": "execute_result"
    }
   ],
   "source": [
    "# GBClassifier\n",
    "clf_gb_IG = GradientBoostingClassifier(random_state=123)\n",
    "\n",
    "clf_gb_IG.fit(X_train_v2, y_train)\n",
    "y_pred_gb_IG = clf_gb_IG.predict(X_test_v2)\n",
    "\n",
    "# evaluation\n",
    "acc_gb_IG = accuracy_score(y_test, y_pred_gb_IG)\n",
    "f1_gb_IG = f1_score(y_test, y_pred_gb_IG)\n",
    "\n",
    "acc_gb_IG, f1_gb_IG"
   ]
  },
  {
   "cell_type": "code",
   "execution_count": 75,
   "metadata": {
    "slideshow": {
     "slide_type": "-"
    }
   },
   "outputs": [
    {
     "data": {
      "image/png": "[encoded data removed]",
      "text/plain": [
       "<Figure size 432x288 with 2 Axes>"
      ]
     },
     "metadata": {
      "needs_background": "light"
     },
     "output_type": "display_data"
    }
   ],
   "source": [
    "# confusion matrix\n",
    "cm_gb_IG = confusion_matrix(y_test, y_pred_gb_IG)\n",
    "\n",
    "#Plot the confusion matrix.\n",
    "sns.heatmap(cm_gb_IG,\n",
    "            annot=True,\n",
    "            fmt='g',\n",
    "            xticklabels=['0','1'],\n",
    "            yticklabels=['0','1'])\n",
    "plt.ylabel('Prediction',fontsize=13)\n",
    "plt.xlabel('Actual',fontsize=13)\n",
    "plt.title('Confusion Matrix (GB_IG)',fontsize=17)\n",
    "plt.show()"
   ]
  },
  {
   "cell_type": "code",
   "execution_count": 76,
   "metadata": {
    "slideshow": {
     "slide_type": "skip"
    }
   },
   "outputs": [
    {
     "name": "stdout",
     "output_type": "stream",
     "text": [
      "              precision    recall  f1-score   support\n",
      "\n",
      "           0       0.67      0.80      0.73       350\n",
      "           1       0.58      0.41      0.48       232\n",
      "\n",
      "    accuracy                           0.64       582\n",
      "   macro avg       0.62      0.60      0.60       582\n",
      "weighted avg       0.63      0.64      0.63       582\n",
      "\n"
     ]
    }
   ],
   "source": [
    "print(classification_report(y_test, y_pred_gb_IG, target_names=['0', '1']))"
   ]
  },
  {
   "cell_type": "code",
   "execution_count": 77,
   "metadata": {
    "slideshow": {
     "slide_type": "subslide"
    }
   },
   "outputs": [
    {
     "data": {
      "text/plain": [
       "(0.6151202749140894, 0.4885844748858447)"
      ]
     },
     "execution_count": 77,
     "metadata": {},
     "output_type": "execute_result"
    }
   ],
   "source": [
    "# MLPClassifier\n",
    "clf_mlp_IG = MLPClassifier(random_state=123)\n",
    "\n",
    "clf_mlp_IG.fit(X_train_v2, y_train)\n",
    "\n",
    "y_pred_mlp_IG = clf_mlp_IG.predict(X_test_v2)\n",
    "\n",
    "# evaluation\n",
    "acc_mlp_IG = accuracy_score(y_test, y_pred_mlp_IG)\n",
    "f1_mlp_IG = f1_score(y_test, y_pred_mlp_IG)\n",
    "\n",
    "acc_mlp_IG, f1_mlp_IG"
   ]
  },
  {
   "cell_type": "code",
   "execution_count": 78,
   "metadata": {
    "slideshow": {
     "slide_type": "-"
    }
   },
   "outputs": [
    {
     "data": {
      "image/png": "[encoded data removed]",
      "text/plain": [
       "<Figure size 432x288 with 2 Axes>"
      ]
     },
     "metadata": {
      "needs_background": "light"
     },
     "output_type": "display_data"
    }
   ],
   "source": [
    "# confusion matrix\n",
    "cm_mlp_IG = confusion_matrix(y_test, y_pred_mlp_IG)\n",
    "\n",
    "#Plot the confusion matrix.\n",
    "sns.heatmap(cm_mlp_IG,\n",
    "            annot=True,\n",
    "            fmt='g',\n",
    "            xticklabels=['0','1'],\n",
    "            yticklabels=['0','1'])\n",
    "plt.ylabel('Prediction',fontsize=13)\n",
    "plt.xlabel('Actual',fontsize=13)\n",
    "plt.title('Confusion Matrix (MLP_IG)',fontsize=17)\n",
    "plt.show()"
   ]
  },
  {
   "cell_type": "code",
   "execution_count": 79,
   "metadata": {
    "slideshow": {
     "slide_type": "skip"
    }
   },
   "outputs": [
    {
     "name": "stdout",
     "output_type": "stream",
     "text": [
      "              precision    recall  f1-score   support\n",
      "\n",
      "           0       0.67      0.72      0.69       350\n",
      "           1       0.52      0.46      0.49       232\n",
      "\n",
      "    accuracy                           0.62       582\n",
      "   macro avg       0.59      0.59      0.59       582\n",
      "weighted avg       0.61      0.62      0.61       582\n",
      "\n"
     ]
    }
   ],
   "source": [
    "print(classification_report(y_test, y_pred_mlp_IG, target_names=['0', '1']))"
   ]
  },
  {
   "cell_type": "markdown",
   "metadata": {
    "id": "TY4Y_f6BGCjl",
    "slideshow": {
     "slide_type": "slide"
    }
   },
   "source": [
    "#### Variance Threshold Feature Selection"
   ]
  },
  {
   "cell_type": "code",
   "execution_count": 80,
   "metadata": {
    "colab": {
     "base_uri": "https://localhost:8080/",
     "height": 74
    },
    "id": "i1NOQfoGGilj",
    "outputId": "9a6e81ef-f9d3-41dc-f6e0-74c44098f7b3",
    "slideshow": {
     "slide_type": "-"
    }
   },
   "outputs": [
    {
     "data": {
      "text/plain": [
       "VarianceThreshold(threshold=0.01)"
      ]
     },
     "execution_count": 80,
     "metadata": {},
     "output_type": "execute_result"
    }
   ],
   "source": [
    "### It will zero variance features\n",
    "from sklearn.feature_selection import VarianceThreshold\n",
    "var_thres=VarianceThreshold(threshold=0.01)\n",
    "var_thres.fit(X_train)"
   ]
  },
  {
   "cell_type": "code",
   "execution_count": 81,
   "metadata": {
    "colab": {
     "base_uri": "https://localhost:8080/"
    },
    "id": "UMGvvzRTGjo9",
    "outputId": "242fc90c-a875-4259-e0a8-efb1c1e83c77",
    "slideshow": {
     "slide_type": "skip"
    }
   },
   "outputs": [],
   "source": [
    "#var_thres.get_support()"
   ]
  },
  {
   "cell_type": "code",
   "execution_count": 82,
   "metadata": {
    "colab": {
     "base_uri": "https://localhost:8080/"
    },
    "id": "9oUr_PUeGm8X",
    "outputId": "c3230cb9-fd29-40b1-9a4c-d0593887260c",
    "slideshow": {
     "slide_type": "skip"
    }
   },
   "outputs": [
    {
     "data": {
      "text/plain": [
       "Index(['DestinationDischarge', 'admission.ward', 'admission.way', 'occupation',\n",
       "       'discharge.department', 'gender', 'pulse', 'type.of.heart.failure',\n",
       "       'NYHA.cardiac.function.classification', 'Killip.grade',\n",
       "       'myocardial.infarction', 'congestive.heart.failure',\n",
       "       'peripheral.vascular.disease', 'cerebrovascular.disease', 'dementia',\n",
       "       'Chronic.obstructive.pulmonary.disease', 'peptic.ulcer.disease',\n",
       "       'diabetes', 'moderate.to.severe.chronic.kidney.disease', 'solid.tumor',\n",
       "       'liver.disease', 'CCI.score', 'type.II.respiratory.failure',\n",
       "       'respiratory.support.', 'oxygen.inhalation',\n",
       "       'left.ventricular.end.diastolic.diameter.LV',\n",
       "       'outcome.during.hospitalization', 'urea', 'uric.acid',\n",
       "       'glomerular.filtration.rate', 'white.blood.cell', 'monocyte.count',\n",
       "       'red.blood.cell',\n",
       "       'coefficient.of.variation.of.red.blood.cell.distribution.width',\n",
       "       'mean.corpuscular.volume', 'hematocrit', 'mean.hemoglobin.volume',\n",
       "       'mean.hemoglobin.concentration', 'mean.platelet.volume', 'hemoglobin',\n",
       "       'neutrophil.ratio', 'neutrophil.count', 'prothrombin.activity',\n",
       "       'fibrinogen', 'carbon.dioxide.binding.capacity', 'chloride',\n",
       "       'creatine.kinase.isoenzyme.to.creatine.kinase',\n",
       "       'hydroxybutyrate.dehydrogenase.to.lactate.dehydrogenase',\n",
       "       'brain.natriuretic.peptide', 'nucleotidase', 'albumin',\n",
       "       'white.globulin.ratio', 'glutamyltranspeptidase', 'total.protein',\n",
       "       'cholesterol', 'low.density.lipoprotein.cholesterol',\n",
       "       'high.density.lipoprotein.cholesterol', 'ageCat'],\n",
       "      dtype='object')"
      ]
     },
     "execution_count": 82,
     "metadata": {},
     "output_type": "execute_result"
    }
   ],
   "source": [
    "X_train.columns[var_thres.get_support()]"
   ]
  },
  {
   "cell_type": "code",
   "execution_count": 83,
   "metadata": {
    "colab": {
     "base_uri": "https://localhost:8080/"
    },
    "id": "XvW21r28GunQ",
    "outputId": "a85c0896-f299-4e73-835a-d87522eef7b9",
    "slideshow": {
     "slide_type": "skip"
    }
   },
   "outputs": [
    {
     "name": "stdout",
     "output_type": "stream",
     "text": [
      "57\n"
     ]
    }
   ],
   "source": [
    "constant_columns = [column for column in X_train.columns\n",
    "                    if column not in X_train.columns[var_thres.get_support()]]\n",
    "\n",
    "print(len(constant_columns))"
   ]
  },
  {
   "cell_type": "code",
   "execution_count": 84,
   "metadata": {
    "colab": {
     "base_uri": "https://localhost:8080/"
    },
    "id": "wWTFOE2lG7o-",
    "outputId": "0d5eb9c7-7542-4d66-9235-bf256bbcdc25",
    "slideshow": {
     "slide_type": "-"
    }
   },
   "outputs": [
    {
     "data": {
      "text/plain": [
       "((1355, 58), (582, 58))"
      ]
     },
     "execution_count": 84,
     "metadata": {},
     "output_type": "execute_result"
    }
   ],
   "source": [
    "# creating new versions of the train and test set by dropping the constant features\n",
    "X_train_v3, X_test_v3 = X_train.drop(constant_columns,axis=1), X_test.drop(constant_columns,axis=1)\n",
    "\n",
    "X_train_v3.shape, X_test_v3.shape"
   ]
  },
  {
   "cell_type": "markdown",
   "metadata": {
    "id": "s_3oPEJpJ-7M",
    "slideshow": {
     "slide_type": "slide"
    }
   },
   "source": [
    "##### Re-training the models(Variance Threshold)"
   ]
  },
  {
   "cell_type": "code",
   "execution_count": 85,
   "metadata": {
    "colab": {
     "base_uri": "https://localhost:8080/"
    },
    "id": "4m4gWyhZJJ4r",
    "outputId": "dff7bad3-c3ef-4769-8ec3-f034ec90c3c3",
    "slideshow": {
     "slide_type": "subslide"
    }
   },
   "outputs": [
    {
     "data": {
      "text/plain": [
       "(0.5343642611683849, 0.44580777096114516)"
      ]
     },
     "execution_count": 85,
     "metadata": {},
     "output_type": "execute_result"
    }
   ],
   "source": [
    "# DT Classifier\n",
    "clf_dt_vt = DecisionTreeClassifier(random_state=123)\n",
    "\n",
    "clf_dt_vt.fit(X_train_v3, y_train)\n",
    "\n",
    "y_pred_dt_vt = clf_dt_vt.predict(X_test_v3)\n",
    "\n",
    "# evaluation\n",
    "acc_dt_vt = accuracy_score(y_test, y_pred_dt_vt)\n",
    "f1_dt_vt = f1_score(y_test, y_pred_dt_vt)\n",
    "\n",
    "acc_dt_vt, f1_dt_vt"
   ]
  },
  {
   "cell_type": "code",
   "execution_count": 86,
   "metadata": {
    "slideshow": {
     "slide_type": "-"
    }
   },
   "outputs": [
    {
     "data": {
      "image/png": "[encoded data removed]",
      "text/plain": [
       "<Figure size 432x288 with 2 Axes>"
      ]
     },
     "metadata": {
      "needs_background": "light"
     },
     "output_type": "display_data"
    }
   ],
   "source": [
    "# confusion matrix\n",
    "cm_dt_vt = confusion_matrix(y_test, y_pred_dt_vt)\n",
    "\n",
    "#Plot the confusion matrix.\n",
    "sns.heatmap(cm_dt_vt,\n",
    "            annot=True,\n",
    "            fmt='g',\n",
    "            xticklabels=['0','1'],\n",
    "            yticklabels=['0','1'])\n",
    "plt.ylabel('Prediction',fontsize=13)\n",
    "plt.xlabel('Actual',fontsize=13)\n",
    "plt.title('Confusion Matrix (DT_VT)',fontsize=17)\n",
    "plt.show()"
   ]
  },
  {
   "cell_type": "code",
   "execution_count": 87,
   "metadata": {
    "slideshow": {
     "slide_type": "skip"
    }
   },
   "outputs": [
    {
     "name": "stdout",
     "output_type": "stream",
     "text": [
      "              precision    recall  f1-score   support\n",
      "\n",
      "           0       0.62      0.58      0.60       350\n",
      "           1       0.42      0.47      0.45       232\n",
      "\n",
      "    accuracy                           0.53       582\n",
      "   macro avg       0.52      0.52      0.52       582\n",
      "weighted avg       0.54      0.53      0.54       582\n",
      "\n"
     ]
    }
   ],
   "source": [
    "print(classification_report(y_test, y_pred_dt_vt, target_names=['0', '1']))"
   ]
  },
  {
   "cell_type": "code",
   "execution_count": 88,
   "metadata": {
    "colab": {
     "base_uri": "https://localhost:8080/"
    },
    "id": "F2_XdW6BJdcx",
    "outputId": "c0d1abe5-d757-44f5-875f-0a47d4856432",
    "slideshow": {
     "slide_type": "subslide"
    }
   },
   "outputs": [
    {
     "data": {
      "text/plain": [
       "(0.6323024054982818, 0.3515151515151515)"
      ]
     },
     "execution_count": 88,
     "metadata": {},
     "output_type": "execute_result"
    }
   ],
   "source": [
    "# RandomForest Classifier\n",
    "clf_rf_vt = RandomForestClassifier(random_state=123)\n",
    "\n",
    "clf_rf_vt.fit(X_train_v3, y_train)\n",
    "\n",
    "y_pred_rf_vt = clf_rf_vt.predict(X_test_v3)\n",
    "\n",
    "# evaluation\n",
    "acc_rf_vt = accuracy_score(y_test, y_pred_rf_vt)\n",
    "f1_rf_vt = f1_score(y_test, y_pred_rf_vt)\n",
    "\n",
    "acc_rf_vt, f1_rf_vt"
   ]
  },
  {
   "cell_type": "code",
   "execution_count": 89,
   "metadata": {
    "slideshow": {
     "slide_type": "-"
    }
   },
   "outputs": [
    {
     "data": {
      "image/png": "[encoded data removed]",
      "text/plain": [
       "<Figure size 432x288 with 2 Axes>"
      ]
     },
     "metadata": {
      "needs_background": "light"
     },
     "output_type": "display_data"
    }
   ],
   "source": [
    "# confusion matrix\n",
    "cm_rf_vt = confusion_matrix(y_test, y_pred_rf_vt)\n",
    "\n",
    "#Plot the confusion matrix.\n",
    "sns.heatmap(cm_rf_vt,\n",
    "            annot=True,\n",
    "            fmt='g',\n",
    "            xticklabels=['0','1'],\n",
    "            yticklabels=['0','1'])\n",
    "plt.ylabel('Prediction',fontsize=13)\n",
    "plt.xlabel('Actual',fontsize=13)\n",
    "plt.title('Confusion Matrix (RF_VT)',fontsize=17)\n",
    "plt.show()"
   ]
  },
  {
   "cell_type": "code",
   "execution_count": 90,
   "metadata": {
    "slideshow": {
     "slide_type": "skip"
    }
   },
   "outputs": [
    {
     "name": "stdout",
     "output_type": "stream",
     "text": [
      "              precision    recall  f1-score   support\n",
      "\n",
      "           0       0.64      0.89      0.74       350\n",
      "           1       0.59      0.25      0.35       232\n",
      "\n",
      "    accuracy                           0.63       582\n",
      "   macro avg       0.62      0.57      0.55       582\n",
      "weighted avg       0.62      0.63      0.59       582\n",
      "\n"
     ]
    }
   ],
   "source": [
    "print(classification_report(y_test, y_pred_rf_vt, target_names=['0', '1']))"
   ]
  },
  {
   "cell_type": "code",
   "execution_count": 91,
   "metadata": {
    "colab": {
     "base_uri": "https://localhost:8080/"
    },
    "id": "u_MLHhoiJtsJ",
    "outputId": "7ba7c7c4-0333-464c-fc4c-7947323dd7cd",
    "slideshow": {
     "slide_type": "subslide"
    }
   },
   "outputs": [
    {
     "data": {
      "text/plain": [
       "(0.6099656357388317, 0.41943734015345263)"
      ]
     },
     "execution_count": 91,
     "metadata": {},
     "output_type": "execute_result"
    }
   ],
   "source": [
    "# GBClassifier\n",
    "clf_gb_vt = GradientBoostingClassifier(random_state=123)\n",
    "\n",
    "clf_gb_vt.fit(X_train_v3, y_train)\n",
    "y_pred_gb_vt = clf_gb_vt.predict(X_test_v3)\n",
    "\n",
    "# evaluation\n",
    "acc_gb_vt = accuracy_score(y_test, y_pred_gb_vt)\n",
    "f1_gb_vt = f1_score(y_test, y_pred_gb_vt)\n",
    "\n",
    "acc_gb_vt, f1_gb_vt"
   ]
  },
  {
   "cell_type": "code",
   "execution_count": 92,
   "metadata": {
    "slideshow": {
     "slide_type": "-"
    }
   },
   "outputs": [
    {
     "data": {
      "image/png": "[encoded data removed]",
      "text/plain": [
       "<Figure size 432x288 with 2 Axes>"
      ]
     },
     "metadata": {
      "needs_background": "light"
     },
     "output_type": "display_data"
    }
   ],
   "source": [
    "# confusion matrix\n",
    "cm_gb_vt = confusion_matrix(y_test, y_pred_gb_vt)\n",
    "\n",
    "#Plot the confusion matrix.\n",
    "sns.heatmap(cm_gb_vt,\n",
    "            annot=True,\n",
    "            fmt='g',\n",
    "            xticklabels=['0','1'],\n",
    "            yticklabels=['0','1'])\n",
    "plt.ylabel('Prediction',fontsize=13)\n",
    "plt.xlabel('Actual',fontsize=13)\n",
    "plt.title('Confusion Matrix (GB_VT)',fontsize=17)\n",
    "plt.show()"
   ]
  },
  {
   "cell_type": "code",
   "execution_count": 93,
   "metadata": {
    "slideshow": {
     "slide_type": "skip"
    }
   },
   "outputs": [
    {
     "name": "stdout",
     "output_type": "stream",
     "text": [
      "              precision    recall  f1-score   support\n",
      "\n",
      "           0       0.65      0.78      0.71       350\n",
      "           1       0.52      0.35      0.42       232\n",
      "\n",
      "    accuracy                           0.61       582\n",
      "   macro avg       0.58      0.57      0.56       582\n",
      "weighted avg       0.59      0.61      0.59       582\n",
      "\n"
     ]
    }
   ],
   "source": [
    "print(classification_report(y_test, y_pred_gb_vt, target_names=['0', '1']))"
   ]
  },
  {
   "cell_type": "code",
   "execution_count": 94,
   "metadata": {
    "slideshow": {
     "slide_type": "subslide"
    }
   },
   "outputs": [
    {
     "data": {
      "text/plain": [
       "(0.6219931271477663, 0.4977168949771689)"
      ]
     },
     "execution_count": 94,
     "metadata": {},
     "output_type": "execute_result"
    }
   ],
   "source": [
    "# MLPClassifier\n",
    "clf_mlp_vt = MLPClassifier(random_state=123)\n",
    "\n",
    "clf_mlp_vt.fit(X_train_v3, y_train)\n",
    "\n",
    "y_pred_mlp_vt = clf_mlp_vt.predict(X_test_v3)\n",
    "\n",
    "# evaluation\n",
    "acc_mlp_vt = accuracy_score(y_test, y_pred_mlp_vt)\n",
    "f1_mlp_vt = f1_score(y_test, y_pred_mlp_vt)\n",
    "\n",
    "acc_mlp_vt, f1_mlp_vt"
   ]
  },
  {
   "cell_type": "code",
   "execution_count": 95,
   "metadata": {
    "slideshow": {
     "slide_type": "-"
    }
   },
   "outputs": [
    {
     "data": {
      "image/png": "[encoded data removed]",
      "text/plain": [
       "<Figure size 432x288 with 2 Axes>"
      ]
     },
     "metadata": {
      "needs_background": "light"
     },
     "output_type": "display_data"
    }
   ],
   "source": [
    "# confusion matrix\n",
    "cm_mlp_vt = confusion_matrix(y_test, y_pred_mlp_vt)\n",
    "\n",
    "#Plot the confusion matrix.\n",
    "sns.heatmap(cm_mlp_vt,\n",
    "            annot=True,\n",
    "            fmt='g',\n",
    "            xticklabels=['0','1'],\n",
    "            yticklabels=['0','1'])\n",
    "plt.ylabel('Prediction',fontsize=13)\n",
    "plt.xlabel('Actual',fontsize=13)\n",
    "plt.title('Confusion Matrix (MLP_VT)',fontsize=17)\n",
    "plt.show()"
   ]
  },
  {
   "cell_type": "code",
   "execution_count": 96,
   "metadata": {
    "slideshow": {
     "slide_type": "skip"
    }
   },
   "outputs": [
    {
     "name": "stdout",
     "output_type": "stream",
     "text": [
      "              precision    recall  f1-score   support\n",
      "\n",
      "           0       0.67      0.72      0.70       350\n",
      "           1       0.53      0.47      0.50       232\n",
      "\n",
      "    accuracy                           0.62       582\n",
      "   macro avg       0.60      0.60      0.60       582\n",
      "weighted avg       0.62      0.62      0.62       582\n",
      "\n"
     ]
    }
   ],
   "source": [
    "print(classification_report(y_test, y_pred_mlp_vt, target_names=['0', '1']))"
   ]
  },
  {
   "cell_type": "markdown",
   "metadata": {
    "id": "AmU_gAgF0MyV",
    "slideshow": {
     "slide_type": "slide"
    }
   },
   "source": [
    "### Feature Selection (Post-processing techniques)"
   ]
  },
  {
   "cell_type": "markdown",
   "metadata": {
    "slideshow": {
     "slide_type": "slide"
    }
   },
   "source": [
    "#### Recursive Feature Elimination"
   ]
  },
  {
   "cell_type": "code",
   "execution_count": 97,
   "metadata": {
    "slideshow": {
     "slide_type": "-"
    }
   },
   "outputs": [],
   "source": [
    "from sklearn.feature_selection import RFE"
   ]
  },
  {
   "cell_type": "markdown",
   "metadata": {
    "slideshow": {
     "slide_type": "slide"
    }
   },
   "source": [
    "##### Re-training the models(Recursive Feature Elimination)"
   ]
  },
  {
   "cell_type": "code",
   "execution_count": 98,
   "metadata": {
    "slideshow": {
     "slide_type": "subslide"
    }
   },
   "outputs": [
    {
     "data": {
      "text/plain": [
       "(0.5326460481099656, 0.4356846473029045)"
      ]
     },
     "execution_count": 98,
     "metadata": {},
     "output_type": "execute_result"
    }
   ],
   "source": [
    "# DT Classifier\n",
    "clf_dt_rfe = DecisionTreeClassifier(random_state=123)\n",
    "\n",
    "rfe_dt = RFE(clf_dt_rfe, n_features_to_select=60)\n",
    "rfe_dt.fit(X_train, y_train)\n",
    "\n",
    "y_pred_dt_rfe = rfe_dt.predict(X_test)\n",
    "\n",
    "# evaluation\n",
    "acc_dt_rfe = accuracy_score(y_test, y_pred_dt_rfe)\n",
    "f1_dt_rfe = f1_score(y_test, y_pred_dt_rfe)\n",
    "\n",
    "acc_dt_rfe, f1_dt_rfe"
   ]
  },
  {
   "cell_type": "code",
   "execution_count": 99,
   "metadata": {
    "slideshow": {
     "slide_type": "-"
    }
   },
   "outputs": [
    {
     "data": {
      "image/png": "[encoded data removed]",
      "text/plain": [
       "<Figure size 432x288 with 2 Axes>"
      ]
     },
     "metadata": {
      "needs_background": "light"
     },
     "output_type": "display_data"
    }
   ],
   "source": [
    "# confusion matrix\n",
    "cm_dt_rfe = confusion_matrix(y_test, y_pred_dt_rfe)\n",
    "\n",
    "#Plot the confusion matrix.\n",
    "sns.heatmap(cm_dt_rfe,\n",
    "            annot=True,\n",
    "            fmt='g',\n",
    "            xticklabels=['0','1'],\n",
    "            yticklabels=['0','1'])\n",
    "plt.ylabel('Prediction',fontsize=13)\n",
    "plt.xlabel('Actual',fontsize=13)\n",
    "plt.title('Confusion Matrix (DT_RFE)',fontsize=17)\n",
    "plt.show()"
   ]
  },
  {
   "cell_type": "code",
   "execution_count": 100,
   "metadata": {
    "slideshow": {
     "slide_type": "skip"
    }
   },
   "outputs": [
    {
     "name": "stdout",
     "output_type": "stream",
     "text": [
      "              precision    recall  f1-score   support\n",
      "\n",
      "           0       0.62      0.59      0.60       350\n",
      "           1       0.42      0.45      0.44       232\n",
      "\n",
      "    accuracy                           0.53       582\n",
      "   macro avg       0.52      0.52      0.52       582\n",
      "weighted avg       0.54      0.53      0.54       582\n",
      "\n"
     ]
    }
   ],
   "source": [
    "print(classification_report(y_test, y_pred_dt_rfe, target_names=['0', '1']))"
   ]
  },
  {
   "cell_type": "code",
   "execution_count": 101,
   "metadata": {
    "slideshow": {
     "slide_type": "skip"
    }
   },
   "outputs": [
    {
     "name": "stdout",
     "output_type": "stream",
     "text": [
      "Best features : Index(['occupation', 'pulse', 'systolic.blood.pressure', 'map', 'weight',\n",
      "       'height', 'congestive.heart.failure', 'diabetes',\n",
      "       'creatinine.enzymatic.method', 'urea', 'uric.acid', 'cystatin',\n",
      "       'white.blood.cell', 'monocyte.ratio', 'monocyte.count',\n",
      "       'red.blood.cell',\n",
      "       'coefficient.of.variation.of.red.blood.cell.distribution.width',\n",
      "       'standard.deviation.of.red.blood.cell.distribution.width',\n",
      "       'mean.corpuscular.volume', 'lymphocyte.count',\n",
      "       'mean.hemoglobin.concentration', 'mean.platelet.volume',\n",
      "       'basophil.ratio', 'basophil.count', 'hemoglobin', 'platelet',\n",
      "       'neutrophil.ratio', 'D.dimer', 'activated.partial.thromboplastin.time',\n",
      "       'thrombin.time', 'prothrombin.activity', 'prothrombin.time.ratio',\n",
      "       'fibrinogen', 'high.sensitivity.troponin',\n",
      "       'carbon.dioxide.binding.capacity', 'calcium', 'potassium', 'chloride',\n",
      "       'sodium', 'creatine.kinase.isoenzyme.to.creatine.kinase',\n",
      "       'hydroxybutyrate.dehydrogenase.to.lactate.dehydrogenase',\n",
      "       'hydroxybutyrate.dehydrogenase', 'creatine.kinase',\n",
      "       'creatine.kinase.isoenzyme', 'lactate.dehydrogenase',\n",
      "       'brain.natriuretic.peptide', 'nucleotidase', 'fucosidase', 'albumin',\n",
      "       'white.globulin.ratio', 'glutamyltranspeptidase',\n",
      "       'alkaline.phosphatase', 'direct.bilirubin', 'total.bile.acid',\n",
      "       'total.protein', 'cholesterol', 'low.density.lipoprotein.cholesterol',\n",
      "       'triglyceride', 'high.density.lipoprotein.cholesterol', 'dischargeDay'],\n",
      "      dtype='object')\n"
     ]
    }
   ],
   "source": [
    " print('Best features :', X_train.columns[rfe_dt.support_])"
   ]
  },
  {
   "cell_type": "code",
   "execution_count": 102,
   "metadata": {
    "slideshow": {
     "slide_type": "subslide"
    }
   },
   "outputs": [
    {
     "data": {
      "text/plain": [
       "(0.6323024054982818, 0.33540372670807456)"
      ]
     },
     "execution_count": 102,
     "metadata": {},
     "output_type": "execute_result"
    }
   ],
   "source": [
    "# RandomForest Classifier\n",
    "clf_rf_rfe = RandomForestClassifier(random_state=123)\n",
    "\n",
    "rfe_rf = RFE(clf_rf_rfe, n_features_to_select=60)\n",
    "rfe_rf.fit(X_train, y_train)\n",
    "\n",
    "y_pred_rf_rfe = rfe_rf.predict(X_test)\n",
    "\n",
    "# evaluation\n",
    "acc_rf_rfe = accuracy_score(y_test, y_pred_rf_rfe)\n",
    "f1_rf_rfe = f1_score(y_test, y_pred_rf_rfe)\n",
    "\n",
    "acc_rf_rfe, f1_rf_rfe"
   ]
  },
  {
   "cell_type": "code",
   "execution_count": 103,
   "metadata": {
    "slideshow": {
     "slide_type": "-"
    }
   },
   "outputs": [
    {
     "data": {
      "image/png": "[encoded data removed]",
      "text/plain": [
       "<Figure size 432x288 with 2 Axes>"
      ]
     },
     "metadata": {
      "needs_background": "light"
     },
     "output_type": "display_data"
    }
   ],
   "source": [
    "# confusion matrix\n",
    "cm_rf_rfe = confusion_matrix(y_test, y_pred_rf_rfe)\n",
    "\n",
    "#Plot the confusion matrix.\n",
    "sns.heatmap(cm_rf_rfe,\n",
    "            annot=True,\n",
    "            fmt='g',\n",
    "            xticklabels=['0','1'],\n",
    "            yticklabels=['0','1'])\n",
    "plt.ylabel('Prediction',fontsize=13)\n",
    "plt.xlabel('Actual',fontsize=13)\n",
    "plt.title('Confusion Matrix (RF_RFE)',fontsize=17)\n",
    "plt.show()"
   ]
  },
  {
   "cell_type": "code",
   "execution_count": 104,
   "metadata": {
    "slideshow": {
     "slide_type": "skip"
    }
   },
   "outputs": [
    {
     "name": "stdout",
     "output_type": "stream",
     "text": [
      "              precision    recall  f1-score   support\n",
      "\n",
      "           0       0.64      0.90      0.75       350\n",
      "           1       0.60      0.23      0.34       232\n",
      "\n",
      "    accuracy                           0.63       582\n",
      "   macro avg       0.62      0.56      0.54       582\n",
      "weighted avg       0.62      0.63      0.58       582\n",
      "\n"
     ]
    }
   ],
   "source": [
    "print(classification_report(y_test, y_pred_rf_rfe, target_names=['0', '1']))"
   ]
  },
  {
   "cell_type": "code",
   "execution_count": 105,
   "metadata": {
    "slideshow": {
     "slide_type": "skip"
    }
   },
   "outputs": [
    {
     "name": "stdout",
     "output_type": "stream",
     "text": [
      "Best features : Index(['pulse', 'systolic.blood.pressure', 'map', 'weight', 'BMI',\n",
      "       'left.ventricular.end.diastolic.diameter.LV',\n",
      "       'creatinine.enzymatic.method', 'urea', 'uric.acid',\n",
      "       'glomerular.filtration.rate', 'cystatin', 'white.blood.cell',\n",
      "       'monocyte.ratio', 'red.blood.cell',\n",
      "       'coefficient.of.variation.of.red.blood.cell.distribution.width',\n",
      "       'standard.deviation.of.red.blood.cell.distribution.width',\n",
      "       'mean.corpuscular.volume', 'lymphocyte.count', 'mean.hemoglobin.volume',\n",
      "       'mean.hemoglobin.concentration', 'mean.platelet.volume',\n",
      "       'eosinophil.ratio', 'platelet', 'platelet.hematocrit',\n",
      "       'neutrophil.ratio', 'neutrophil.count', 'D.dimer',\n",
      "       'international.normalized.ratio',\n",
      "       'activated.partial.thromboplastin.time', 'thrombin.time',\n",
      "       'prothrombin.activity', 'fibrinogen', 'high.sensitivity.troponin',\n",
      "       'carbon.dioxide.binding.capacity', 'calcium', 'potassium', 'chloride',\n",
      "       'sodium', 'hydroxybutyrate.dehydrogenase.to.lactate.dehydrogenase',\n",
      "       'creatine.kinase', 'creatine.kinase.isoenzyme', 'lactate.dehydrogenase',\n",
      "       'brain.natriuretic.peptide', 'nucleotidase', 'fucosidase', 'albumin',\n",
      "       'white.globulin.ratio', 'glutamyltranspeptidase',\n",
      "       'glutamic.pyruvic.transaminase', 'indirect.bilirubin',\n",
      "       'alkaline.phosphatase', 'globulin', 'direct.bilirubin',\n",
      "       'total.bilirubin', 'total.bile.acid', 'total.protein', 'cholesterol',\n",
      "       'low.density.lipoprotein.cholesterol', 'triglyceride', 'dischargeDay'],\n",
      "      dtype='object')\n"
     ]
    }
   ],
   "source": [
    " print('Best features :', X_train.columns[rfe_rf.support_])"
   ]
  },
  {
   "cell_type": "code",
   "execution_count": 106,
   "metadata": {
    "slideshow": {
     "slide_type": "subslide"
    }
   },
   "outputs": [
    {
     "data": {
      "text/plain": [
       "(0.627147766323024, 0.4392764857881136)"
      ]
     },
     "execution_count": 106,
     "metadata": {},
     "output_type": "execute_result"
    }
   ],
   "source": [
    "# GBClassifier\n",
    "clf_gb_rfe = GradientBoostingClassifier(random_state=123)\n",
    "\n",
    "rfe_gb = RFE(clf_gb_rfe, n_features_to_select=60)\n",
    "rfe_gb.fit(X_train, y_train)\n",
    "\n",
    "y_pred_gb_rfe = rfe_gb.predict(X_test)\n",
    "\n",
    "# evaluation\n",
    "acc_gb_rfe = accuracy_score(y_test, y_pred_gb_rfe)\n",
    "f1_gb_rfe = f1_score(y_test, y_pred_gb_rfe)\n",
    "\n",
    "acc_gb_rfe, f1_gb_rfe"
   ]
  },
  {
   "cell_type": "code",
   "execution_count": 107,
   "metadata": {
    "slideshow": {
     "slide_type": "-"
    }
   },
   "outputs": [
    {
     "data": {
      "image/png": "[encoded data removed]",
      "text/plain": [
       "<Figure size 432x288 with 2 Axes>"
      ]
     },
     "metadata": {
      "needs_background": "light"
     },
     "output_type": "display_data"
    }
   ],
   "source": [
    "# confusion matrix\n",
    "cm_gb_rfe = confusion_matrix(y_test, y_pred_gb_rfe)\n",
    "\n",
    "#Plot the confusion matrix.\n",
    "sns.heatmap(cm_gb_rfe,\n",
    "            annot=True,\n",
    "            fmt='g',\n",
    "            xticklabels=['0','1'],\n",
    "            yticklabels=['0','1'])\n",
    "plt.ylabel('Prediction',fontsize=13)\n",
    "plt.xlabel('Actual',fontsize=13)\n",
    "plt.title('Confusion Matrix (GB_RFE)',fontsize=17)\n",
    "plt.show()"
   ]
  },
  {
   "cell_type": "code",
   "execution_count": 108,
   "metadata": {
    "slideshow": {
     "slide_type": "skip"
    }
   },
   "outputs": [
    {
     "name": "stdout",
     "output_type": "stream",
     "text": [
      "              precision    recall  f1-score   support\n",
      "\n",
      "           0       0.66      0.80      0.72       350\n",
      "           1       0.55      0.37      0.44       232\n",
      "\n",
      "    accuracy                           0.63       582\n",
      "   macro avg       0.60      0.58      0.58       582\n",
      "weighted avg       0.61      0.63      0.61       582\n",
      "\n"
     ]
    }
   ],
   "source": [
    "print(classification_report(y_test, y_pred_gb_rfe, target_names=['0', '1']))"
   ]
  },
  {
   "cell_type": "code",
   "execution_count": 109,
   "metadata": {
    "slideshow": {
     "slide_type": "skip"
    }
   },
   "outputs": [
    {
     "name": "stdout",
     "output_type": "stream",
     "text": [
      "Best features : Index(['occupation', 'pulse', 'systolic.blood.pressure', 'map', 'weight',\n",
      "       'height', 'BMI', 'type.of.heart.failure',\n",
      "       'NYHA.cardiac.function.classification', 'dementia', 'CCI.score',\n",
      "       'left.ventricular.end.diastolic.diameter.LV',\n",
      "       'creatinine.enzymatic.method', 'urea', 'glomerular.filtration.rate',\n",
      "       'white.blood.cell', 'monocyte.ratio', 'monocyte.count',\n",
      "       'red.blood.cell',\n",
      "       'standard.deviation.of.red.blood.cell.distribution.width', 'hematocrit',\n",
      "       'lymphocyte.count', 'mean.hemoglobin.volume',\n",
      "       'mean.hemoglobin.concentration', 'mean.platelet.volume',\n",
      "       'basophil.ratio', 'basophil.count', 'eosinophil.ratio', 'platelet',\n",
      "       'platelet.distribution.width', 'platelet.hematocrit',\n",
      "       'neutrophil.ratio', 'D.dimer', 'activated.partial.thromboplastin.time',\n",
      "       'thrombin.time', 'prothrombin.activity', 'fibrinogen',\n",
      "       'high.sensitivity.troponin', 'carbon.dioxide.binding.capacity',\n",
      "       'calcium', 'chloride', 'sodium',\n",
      "       'hydroxybutyrate.dehydrogenase.to.lactate.dehydrogenase',\n",
      "       'hydroxybutyrate.dehydrogenase', 'glutamic.oxaloacetic.transaminase',\n",
      "       'brain.natriuretic.peptide', 'nucleotidase', 'fucosidase', 'albumin',\n",
      "       'white.globulin.ratio', 'indirect.bilirubin', 'alkaline.phosphatase',\n",
      "       'globulin', 'direct.bilirubin', 'total.bile.acid', 'total.protein',\n",
      "       'cholesterol', 'low.density.lipoprotein.cholesterol', 'triglyceride',\n",
      "       'dischargeDay'],\n",
      "      dtype='object')\n"
     ]
    }
   ],
   "source": [
    " print('Best features :', X_train.columns[rfe_gb.support_])"
   ]
  },
  {
   "cell_type": "markdown",
   "metadata": {
    "slideshow": {
     "slide_type": "slide"
    }
   },
   "source": [
    "##### RFE and Neural Networks\n",
    "Recursive feature elimination doesn't have a direct implementation in scikit-learn for neural networks like Multilayer Perceptrons (MLPs) since neural networks don't inherently provide feature importance scores like linear models or tree-based models."
   ]
  },
  {
   "cell_type": "code",
   "execution_count": 110,
   "metadata": {
    "slideshow": {
     "slide_type": "subslide"
    }
   },
   "outputs": [
    {
     "data": {
      "text/plain": [
       "((1355, 60), (582, 60))"
      ]
     },
     "execution_count": 110,
     "metadata": {},
     "output_type": "execute_result"
    }
   ],
   "source": [
    "# we use the model that had the best accuracy with rfe and then utilize those features selected\n",
    "# creating new versions of the train and test set using the selected features\n",
    "col_names_rf = X_train.columns[rfe_rf.support_]\n",
    "X_train_v4, X_test_v4 = X_train[col_names_rf], X_test[col_names_rf]\n",
    "\n",
    "X_train_v4.shape, X_test_v4.shape"
   ]
  },
  {
   "cell_type": "code",
   "execution_count": 111,
   "metadata": {
    "slideshow": {
     "slide_type": "subslide"
    }
   },
   "outputs": [
    {
     "data": {
      "text/plain": [
       "(0.6013745704467354, 0.34831460674157305)"
      ]
     },
     "execution_count": 111,
     "metadata": {},
     "output_type": "execute_result"
    }
   ],
   "source": [
    "# MLPClassifier\n",
    "clf_mlp_rfe = MLPClassifier(random_state=123)\n",
    "\n",
    "clf_mlp_rfe.fit(X_train_v4, y_train)\n",
    "\n",
    "y_pred_mlp_rfe = clf_mlp_rfe.predict(X_test_v4)\n",
    "\n",
    "# evaluation\n",
    "acc_mlp_rfe = accuracy_score(y_test, y_pred_mlp_rfe)\n",
    "f1_mlp_rfe = f1_score(y_test, y_pred_mlp_rfe)\n",
    "\n",
    "acc_mlp_rfe, f1_mlp_rfe"
   ]
  },
  {
   "cell_type": "code",
   "execution_count": 112,
   "metadata": {
    "slideshow": {
     "slide_type": "-"
    }
   },
   "outputs": [
    {
     "data": {
      "image/png": "[encoded data removed]",
      "text/plain": [
       "<Figure size 432x288 with 2 Axes>"
      ]
     },
     "metadata": {
      "needs_background": "light"
     },
     "output_type": "display_data"
    }
   ],
   "source": [
    "# confusion matrix\n",
    "cm_mlp_rfe = confusion_matrix(y_test, y_pred_mlp_rfe)\n",
    "\n",
    "#Plot the confusion matrix.\n",
    "sns.heatmap(cm_mlp_rfe,\n",
    "            annot=True,\n",
    "            fmt='g',\n",
    "            xticklabels=['0','1'],\n",
    "            yticklabels=['0','1'])\n",
    "plt.ylabel('Prediction',fontsize=13)\n",
    "plt.xlabel('Actual',fontsize=13)\n",
    "plt.title('Confusion Matrix (MLP_RFE)',fontsize=17)\n",
    "plt.show()"
   ]
  },
  {
   "cell_type": "code",
   "execution_count": 113,
   "metadata": {
    "slideshow": {
     "slide_type": "skip"
    }
   },
   "outputs": [
    {
     "name": "stdout",
     "output_type": "stream",
     "text": [
      "              precision    recall  f1-score   support\n",
      "\n",
      "           0       0.63      0.82      0.71       350\n",
      "           1       0.50      0.27      0.35       232\n",
      "\n",
      "    accuracy                           0.60       582\n",
      "   macro avg       0.56      0.55      0.53       582\n",
      "weighted avg       0.58      0.60      0.57       582\n",
      "\n"
     ]
    }
   ],
   "source": [
    "print(classification_report(y_test, y_pred_mlp_rfe, target_names=['0', '1']))"
   ]
  },
  {
   "cell_type": "markdown",
   "metadata": {
    "slideshow": {
     "slide_type": "slide"
    }
   },
   "source": [
    "#### BorutaSHAP"
   ]
  },
  {
   "cell_type": "code",
   "execution_count": 114,
   "metadata": {
    "scrolled": false,
    "slideshow": {
     "slide_type": "subslide"
    }
   },
   "outputs": [
    {
     "data": {
      "application/vnd.jupyter.widget-view+json": {
       "model_id": "f39115a79fdc454e881365a0f93beb81",
       "version_major": 2,
       "version_minor": 0
      },
      "text/plain": [
       "  0%|          | 0/80 [00:00<?, ?it/s]"
      ]
     },
     "metadata": {},
     "output_type": "display_data"
    },
    {
     "name": "stdout",
     "output_type": "stream",
     "text": [
      "11 attributes confirmed important: ['type.of.heart.failure', 'chloride', 'left.ventricular.end.diastolic.diameter.LV', 'mean.corpuscular.volume', 'urea', 'cholesterol', 'D.dimer', 'high.sensitivity.troponin', 'systolic.blood.pressure', 'mean.hemoglobin.volume', 'sodium']\n",
      "99 attributes confirmed unimportant: ['glomerular.filtration.rate', 'direct.bilirubin', 'body.temperature', 'coefficient.of.variation.of.red.blood.cell.distribution.width', 'indirect.bilirubin', 'fibrinogen', 'globulin', 'dementia', 'neutrophil.ratio', 'triglyceride', 'nucleotidase', 'monocyte.ratio', 'mean.platelet.volume', 'peripheral.vascular.disease', 'lactate.dehydrogenase', 'hydroxybutyrate.dehydrogenase', 'discharge.department', 'solid.tumor', 'weight', 'carbon.dioxide.binding.capacity', 'hemoglobin', 'fio2', 'platelet.distribution.width', 'basophil.ratio', 'glutamyltranspeptidase', 'verbal.response', 'myocardial.infarction', 'prothrombin.time.ratio', 'potassium', 'Killip.grade', 'outcome.during.hospitalization', 'red.blood.cell', 'map', 'AIDS', 'gender', 'glutamic.pyruvic.transaminase', 'high.density.lipoprotein.cholesterol', 'respiratory.support.', 'total.protein', 'albumin', 'connective.tissue.disease', 'prothrombin.activity', 'acute.renal.failure', 'hematocrit', 'international.normalized.ratio', 'oxygen.inhalation', 'admission.ward', 'activated.partial.thromboplastin.time', 'total.bilirubin', 'eosinophil.count', 'mean.hemoglobin.concentration', 'standard.deviation.of.red.blood.cell.distribution.width', 'basophil.count', 'alkaline.phosphatase', 'platelet.hematocrit', 'BMI', 'consciousness', 'leukemia', 'CCI.score', 'eosinophil.ratio', 'creatine.kinase.isoenzyme', 'lymphocyte.count', 'calcium', 'Chronic.obstructive.pulmonary.disease', 'uric.acid', 'peptic.ulcer.disease', 'admission.way', 'ageCat', 'diabetes', 'monocyte.count', 'eye.opening', 'DestinationDischarge', 'respiration', 'movement', 'hydroxybutyrate.dehydrogenase.to.lactate.dehydrogenase', 'white.blood.cell', 'occupation', 'fucosidase', 'liver.disease', 'platelet', 'GCS', 'moderate.to.severe.chronic.kidney.disease', 'visit.times', 'pulse', 'creatine.kinase', 'cerebrovascular.disease', 'congestive.heart.failure', 'creatine.kinase.isoenzyme.to.creatine.kinase', 'height', 'white.globulin.ratio', 'diastolic.blood.pressure', 'malignant.lymphoma', 'neutrophil.count', 'type.II.respiratory.failure', 'hemiplegia', 'total.bile.acid', 'glutamic.oxaloacetic.transaminase', 'brain.natriuretic.peptide', 'NYHA.cardiac.function.classification']\n",
      "5 tentative attributes remains: ['thrombin.time', 'dischargeDay', 'cystatin', 'creatinine.enzymatic.method', 'low.density.lipoprotein.cholesterol']\n"
     ]
    }
   ],
   "source": [
    "from BorutaShap import BorutaShap\n",
    "\n",
    "# If no model is selected default is the Random Forest\n",
    "# If classification is True it is a classification problem\n",
    "fs_bShap = BorutaShap(importance_measure='shap', classification=True)\n",
    "\n",
    "fs_bShap.fit(X=X_train, y=y_train, n_trials=80, random_state=123)"
   ]
  },
  {
   "cell_type": "code",
   "execution_count": 115,
   "metadata": {
    "slideshow": {
     "slide_type": "subslide"
    }
   },
   "outputs": [
    {
     "name": "stdout",
     "output_type": "stream",
     "text": [
      "0 tentative features are now accepted: []\n",
      "5 tentative features are now rejected: ['thrombin.time' 'dischargeDay' 'cystatin' 'creatinine.enzymatic.method'\n",
      " 'low.density.lipoprotein.cholesterol']\n"
     ]
    }
   ],
   "source": [
    "# as 5 attributes are still undecided we have two choices\n",
    "# increase the n_trials or use the TentativeRoughFix()\n",
    "fs_bShap.TentativeRoughFix()"
   ]
  },
  {
   "cell_type": "code",
   "execution_count": 116,
   "metadata": {
    "slideshow": {
     "slide_type": "skip"
    }
   },
   "outputs": [
    {
     "data": {
      "text/plain": [
       "Index(['type.of.heart.failure', 'chloride',\n",
       "       'left.ventricular.end.diastolic.diameter.LV', 'mean.corpuscular.volume',\n",
       "       'urea', 'cholesterol', 'D.dimer', 'high.sensitivity.troponin',\n",
       "       'systolic.blood.pressure', 'mean.hemoglobin.volume', 'sodium'],\n",
       "      dtype='object')"
      ]
     },
     "execution_count": 116,
     "metadata": {},
     "output_type": "execute_result"
    }
   ],
   "source": [
    "sel_feat_bShap = fs_bShap.Subset().columns\n",
    "sel_feat_bShap"
   ]
  },
  {
   "cell_type": "code",
   "execution_count": 117,
   "metadata": {
    "slideshow": {
     "slide_type": "subslide"
    }
   },
   "outputs": [
    {
     "data": {
      "text/plain": [
       "((1355, 11), (582, 11))"
      ]
     },
     "execution_count": 117,
     "metadata": {},
     "output_type": "execute_result"
    }
   ],
   "source": [
    "# creating new versions of the train and test set using the selected\n",
    "X_train_v5, X_test_v5 = X_train[sel_feat_bShap], X_test[sel_feat_bShap]\n",
    "\n",
    "X_train_v5.shape, X_test_v5.shape"
   ]
  },
  {
   "cell_type": "markdown",
   "metadata": {
    "slideshow": {
     "slide_type": "slide"
    }
   },
   "source": [
    "##### Re-training the models (BorutaSHAP)"
   ]
  },
  {
   "cell_type": "code",
   "execution_count": 118,
   "metadata": {
    "colab": {
     "base_uri": "https://localhost:8080/"
    },
    "id": "4m4gWyhZJJ4r",
    "outputId": "dff7bad3-c3ef-4769-8ec3-f034ec90c3c3",
    "slideshow": {
     "slide_type": "subslide"
    }
   },
   "outputs": [
    {
     "data": {
      "text/plain": [
       "(0.5463917525773195, 0.45228215767634855)"
      ]
     },
     "execution_count": 118,
     "metadata": {},
     "output_type": "execute_result"
    }
   ],
   "source": [
    "# DT Classifier\n",
    "clf_dt_bs = DecisionTreeClassifier(random_state=123)\n",
    "\n",
    "clf_dt_bs.fit(X_train_v5, y_train)\n",
    "\n",
    "y_pred_dt_bs = clf_dt_bs.predict(X_test_v5)\n",
    "\n",
    "# evaluation\n",
    "acc_dt_bs = accuracy_score(y_test, y_pred_dt_bs)\n",
    "f1_dt_bs = f1_score(y_test, y_pred_dt_bs)\n",
    "\n",
    "acc_dt_bs, f1_dt_bs"
   ]
  },
  {
   "cell_type": "code",
   "execution_count": 119,
   "metadata": {
    "slideshow": {
     "slide_type": "-"
    }
   },
   "outputs": [
    {
     "data": {
      "image/png": "[encoded data removed]",
      "text/plain": [
       "<Figure size 432x288 with 2 Axes>"
      ]
     },
     "metadata": {
      "needs_background": "light"
     },
     "output_type": "display_data"
    }
   ],
   "source": [
    "# confusion matrix\n",
    "cm_dt_bs = confusion_matrix(y_test, y_pred_dt_bs)\n",
    "\n",
    "#Plot the confusion matrix.\n",
    "sns.heatmap(cm_dt_bs,\n",
    "            annot=True,\n",
    "            fmt='g',\n",
    "            xticklabels=['0','1'],\n",
    "            yticklabels=['0','1'])\n",
    "plt.ylabel('Prediction',fontsize=13)\n",
    "plt.xlabel('Actual',fontsize=13)\n",
    "plt.title('Confusion Matrix (DT_Bs)',fontsize=17)\n",
    "plt.show()"
   ]
  },
  {
   "cell_type": "code",
   "execution_count": 120,
   "metadata": {
    "slideshow": {
     "slide_type": "skip"
    }
   },
   "outputs": [
    {
     "name": "stdout",
     "output_type": "stream",
     "text": [
      "              precision    recall  f1-score   support\n",
      "\n",
      "           0       0.63      0.60      0.61       350\n",
      "           1       0.44      0.47      0.45       232\n",
      "\n",
      "    accuracy                           0.55       582\n",
      "   macro avg       0.53      0.53      0.53       582\n",
      "weighted avg       0.55      0.55      0.55       582\n",
      "\n"
     ]
    }
   ],
   "source": [
    "print(classification_report(y_test, y_pred_dt_bs, target_names=['0', '1']))"
   ]
  },
  {
   "cell_type": "code",
   "execution_count": 121,
   "metadata": {
    "colab": {
     "base_uri": "https://localhost:8080/"
    },
    "id": "F2_XdW6BJdcx",
    "outputId": "c0d1abe5-d757-44f5-875f-0a47d4856432",
    "slideshow": {
     "slide_type": "subslide"
    }
   },
   "outputs": [
    {
     "data": {
      "text/plain": [
       "(0.6305841924398625, 0.40443213296398894)"
      ]
     },
     "execution_count": 121,
     "metadata": {},
     "output_type": "execute_result"
    }
   ],
   "source": [
    "# RandomForest Classifier\n",
    "clf_rf_bs = RandomForestClassifier(random_state=123)\n",
    "\n",
    "clf_rf_bs.fit(X_train_v5, y_train)\n",
    "\n",
    "y_pred_rf_bs = clf_rf_bs.predict(X_test_v5)\n",
    "\n",
    "# evaluation\n",
    "acc_rf_bs = accuracy_score(y_test, y_pred_rf_bs)\n",
    "f1_rf_bs = f1_score(y_test, y_pred_rf_bs)\n",
    "\n",
    "acc_rf_bs, f1_rf_bs"
   ]
  },
  {
   "cell_type": "code",
   "execution_count": 122,
   "metadata": {
    "slideshow": {
     "slide_type": "-"
    }
   },
   "outputs": [
    {
     "data": {
      "image/png": "[encoded data removed]",
      "text/plain": [
       "<Figure size 432x288 with 2 Axes>"
      ]
     },
     "metadata": {
      "needs_background": "light"
     },
     "output_type": "display_data"
    }
   ],
   "source": [
    "# confusion matrix\n",
    "cm_rf_bs = confusion_matrix(y_test, y_pred_rf_bs)\n",
    "\n",
    "#Plot the confusion matrix.\n",
    "sns.heatmap(cm_rf_bs,\n",
    "            annot=True,\n",
    "            fmt='g',\n",
    "            xticklabels=['0','1'],\n",
    "            yticklabels=['0','1'])\n",
    "plt.ylabel('Prediction',fontsize=13)\n",
    "plt.xlabel('Actual',fontsize=13)\n",
    "plt.title('Confusion Matrix (RF_Bs)',fontsize=17)\n",
    "plt.show()"
   ]
  },
  {
   "cell_type": "code",
   "execution_count": 123,
   "metadata": {
    "slideshow": {
     "slide_type": "skip"
    }
   },
   "outputs": [
    {
     "name": "stdout",
     "output_type": "stream",
     "text": [
      "              precision    recall  f1-score   support\n",
      "\n",
      "           0       0.65      0.84      0.73       350\n",
      "           1       0.57      0.31      0.40       232\n",
      "\n",
      "    accuracy                           0.63       582\n",
      "   macro avg       0.61      0.58      0.57       582\n",
      "weighted avg       0.62      0.63      0.60       582\n",
      "\n"
     ]
    }
   ],
   "source": [
    "print(classification_report(y_test, y_pred_rf_bs, target_names=['0', '1']))"
   ]
  },
  {
   "cell_type": "code",
   "execution_count": 124,
   "metadata": {
    "colab": {
     "base_uri": "https://localhost:8080/"
    },
    "id": "u_MLHhoiJtsJ",
    "outputId": "7ba7c7c4-0333-464c-fc4c-7947323dd7cd",
    "slideshow": {
     "slide_type": "subslide"
    }
   },
   "outputs": [
    {
     "data": {
      "text/plain": [
       "(0.6151202749140894, 0.422680412371134)"
      ]
     },
     "execution_count": 124,
     "metadata": {},
     "output_type": "execute_result"
    }
   ],
   "source": [
    "# GBClassifier\n",
    "clf_gb_bs = GradientBoostingClassifier(random_state=123)\n",
    "\n",
    "clf_gb_bs.fit(X_train_v5, y_train)\n",
    "y_pred_gb_bs = clf_gb_bs.predict(X_test_v5)\n",
    "\n",
    "# evaluation\n",
    "acc_gb_bs = accuracy_score(y_test, y_pred_gb_bs)\n",
    "f1_gb_bs = f1_score(y_test, y_pred_gb_bs)\n",
    "\n",
    "acc_gb_bs, f1_gb_bs"
   ]
  },
  {
   "cell_type": "code",
   "execution_count": 125,
   "metadata": {
    "slideshow": {
     "slide_type": "-"
    }
   },
   "outputs": [
    {
     "data": {
      "image/png": "[encoded data removed]",
      "text/plain": [
       "<Figure size 432x288 with 2 Axes>"
      ]
     },
     "metadata": {
      "needs_background": "light"
     },
     "output_type": "display_data"
    }
   ],
   "source": [
    "# confusion matrix\n",
    "cm_gb_bs = confusion_matrix(y_test, y_pred_gb_bs)\n",
    "\n",
    "#Plot the confusion matrix.\n",
    "sns.heatmap(cm_gb_bs,\n",
    "            annot=True,\n",
    "            fmt='g',\n",
    "            xticklabels=['0','1'],\n",
    "            yticklabels=['0','1'])\n",
    "plt.ylabel('Prediction',fontsize=13)\n",
    "plt.xlabel('Actual',fontsize=13)\n",
    "plt.title('Confusion Matrix (GB_Bs)',fontsize=17)\n",
    "plt.show()"
   ]
  },
  {
   "cell_type": "code",
   "execution_count": 126,
   "metadata": {
    "slideshow": {
     "slide_type": "skip"
    }
   },
   "outputs": [
    {
     "name": "stdout",
     "output_type": "stream",
     "text": [
      "              precision    recall  f1-score   support\n",
      "\n",
      "           0       0.65      0.79      0.71       350\n",
      "           1       0.53      0.35      0.42       232\n",
      "\n",
      "    accuracy                           0.62       582\n",
      "   macro avg       0.59      0.57      0.57       582\n",
      "weighted avg       0.60      0.62      0.60       582\n",
      "\n"
     ]
    }
   ],
   "source": [
    "print(classification_report(y_test, y_pred_gb_bs, target_names=['0', '1']))"
   ]
  },
  {
   "cell_type": "code",
   "execution_count": 127,
   "metadata": {
    "slideshow": {
     "slide_type": "subslide"
    }
   },
   "outputs": [
    {
     "data": {
      "text/plain": [
       "(0.6185567010309279, 0.418848167539267)"
      ]
     },
     "execution_count": 127,
     "metadata": {},
     "output_type": "execute_result"
    }
   ],
   "source": [
    "# MLPClassifier\n",
    "clf_mlp_bs = MLPClassifier(random_state=123)\n",
    "\n",
    "clf_mlp_bs.fit(X_train_v5, y_train)\n",
    "\n",
    "y_pred_mlp_bs = clf_mlp_bs.predict(X_test_v5)\n",
    "\n",
    "# evaluation\n",
    "acc_mlp_bs = accuracy_score(y_test, y_pred_mlp_bs)\n",
    "f1_mlp_bs = f1_score(y_test, y_pred_mlp_bs)\n",
    "\n",
    "acc_mlp_bs, f1_mlp_bs"
   ]
  },
  {
   "cell_type": "code",
   "execution_count": 128,
   "metadata": {
    "slideshow": {
     "slide_type": "-"
    }
   },
   "outputs": [
    {
     "data": {
      "image/png": "[encoded data removed]",
      "text/plain": [
       "<Figure size 432x288 with 2 Axes>"
      ]
     },
     "metadata": {
      "needs_background": "light"
     },
     "output_type": "display_data"
    }
   ],
   "source": [
    "# confusion matrix\n",
    "cm_mlp_bs = confusion_matrix(y_test, y_pred_mlp_bs)\n",
    "\n",
    "#Plot the confusion matrix.\n",
    "sns.heatmap(cm_mlp_bs,\n",
    "            annot=True,\n",
    "            fmt='g',\n",
    "            xticklabels=['0','1'],\n",
    "            yticklabels=['0','1'])\n",
    "plt.ylabel('Prediction',fontsize=13)\n",
    "plt.xlabel('Actual',fontsize=13)\n",
    "plt.title('Confusion Matrix (MLP_Bs)',fontsize=17)\n",
    "plt.show()"
   ]
  },
  {
   "cell_type": "code",
   "execution_count": 129,
   "metadata": {
    "slideshow": {
     "slide_type": "skip"
    }
   },
   "outputs": [
    {
     "name": "stdout",
     "output_type": "stream",
     "text": [
      "              precision    recall  f1-score   support\n",
      "\n",
      "           0       0.65      0.80      0.72       350\n",
      "           1       0.53      0.34      0.42       232\n",
      "\n",
      "    accuracy                           0.62       582\n",
      "   macro avg       0.59      0.57      0.57       582\n",
      "weighted avg       0.60      0.62      0.60       582\n",
      "\n"
     ]
    }
   ],
   "source": [
    "print(classification_report(y_test, y_pred_mlp_bs, target_names=['0', '1']))"
   ]
  },
  {
   "cell_type": "markdown",
   "metadata": {
    "slideshow": {
     "slide_type": "slide"
    }
   },
   "source": [
    "#### Boruta-SHAP for XGBM"
   ]
  },
  {
   "cell_type": "code",
   "execution_count": 130,
   "metadata": {
    "slideshow": {
     "slide_type": "skip"
    }
   },
   "outputs": [],
   "source": [
    "from shaphypetune import BoostBoruta"
   ]
  },
  {
   "cell_type": "code",
   "execution_count": 131,
   "metadata": {
    "slideshow": {
     "slide_type": "subslide"
    }
   },
   "outputs": [
    {
     "data": {
      "text/plain": [
       "BoostBoruta(estimator=XGBClassifier(base_score=None, booster=None,\n",
       "                                    callbacks=None, colsample_bylevel=None,\n",
       "                                    colsample_bynode=None,\n",
       "                                    colsample_bytree=None,\n",
       "                                    early_stopping_rounds=None,\n",
       "                                    enable_categorical=False, eval_metric=None,\n",
       "                                    feature_types=None, gamma=None, gpu_id=None,\n",
       "                                    grow_policy=None, importance_type=None,\n",
       "                                    interaction_constraints=None,\n",
       "                                    learning_rate=None, max_bin=None,\n",
       "                                    max_cat_threshold=None,\n",
       "                                    max_cat_to_onehot=None, max_delta_step=None,\n",
       "                                    max_depth=None, max_leaves=None,\n",
       "                                    min_child_weight=None, missing=nan,\n",
       "                                    monotone_constraints=None, n_estimators=100,\n",
       "                                    n_jobs=None, num_parallel_tree=None,\n",
       "                                    predictor=None, random_state=None, ...),\n",
       "            importance_type='shap_importances', max_iter=200, perc=80,\n",
       "            train_importance=False)"
      ]
     },
     "execution_count": 131,
     "metadata": {},
     "output_type": "execute_result"
    }
   ],
   "source": [
    "from xgboost import XGBClassifier\n",
    "### BORUTA-SHAP for LGBM & XGBM ###\n",
    "clf_xgb = XGBClassifier()\n",
    "model_bs = BoostBoruta(\n",
    "    clf_xgb, max_iter=200, perc=80,\n",
    "    importance_type='shap_importances', train_importance=False\n",
    ")\n",
    "model_bs.fit(X_train, y_train, eval_set=[(X_test, y_test)])"
   ]
  },
  {
   "cell_type": "code",
   "execution_count": 132,
   "metadata": {
    "slideshow": {
     "slide_type": "subslide"
    }
   },
   "outputs": [
    {
     "data": {
      "text/plain": [
       "15"
      ]
     },
     "execution_count": 132,
     "metadata": {},
     "output_type": "execute_result"
    }
   ],
   "source": [
    "model_bs.n_features_"
   ]
  },
  {
   "cell_type": "code",
   "execution_count": 133,
   "metadata": {
    "slideshow": {
     "slide_type": "skip"
    }
   },
   "outputs": [],
   "source": [
    "y_pred_bs1 = model_bs.predict(X_test)"
   ]
  },
  {
   "cell_type": "code",
   "execution_count": 134,
   "metadata": {
    "slideshow": {
     "slide_type": "-"
    }
   },
   "outputs": [
    {
     "data": {
      "text/plain": [
       "(0.5996563573883161, 0.46924829157175396)"
      ]
     },
     "execution_count": 134,
     "metadata": {},
     "output_type": "execute_result"
    }
   ],
   "source": [
    "# train & evaluation\n",
    "acc_xgb_bs = accuracy_score(y_test, y_pred_bs1)\n",
    "f1_xgb_bs = f1_score(y_test, y_pred_bs1)\n",
    "\n",
    "acc_xgb_bs, f1_xgb_bs"
   ]
  },
  {
   "cell_type": "code",
   "execution_count": 135,
   "metadata": {
    "slideshow": {
     "slide_type": "subslide"
    }
   },
   "outputs": [
    {
     "data": {
      "image/png": "[encoded data removed]",
      "text/plain": [
       "<Figure size 432x288 with 2 Axes>"
      ]
     },
     "metadata": {
      "needs_background": "light"
     },
     "output_type": "display_data"
    }
   ],
   "source": [
    "# confusion matrix\n",
    "cm_xgb_bs = confusion_matrix(y_test, y_pred_bs1)\n",
    "\n",
    "#Plot the confusion matrix.\n",
    "sns.heatmap(cm_xgb_bs,\n",
    "            annot=True,\n",
    "            fmt='g',\n",
    "            xticklabels=['0','1'],\n",
    "            yticklabels=['0','1'])\n",
    "plt.ylabel('Prediction',fontsize=13)\n",
    "plt.xlabel('Actual',fontsize=13)\n",
    "plt.title('Confusion Matrix (XGB_Bs)',fontsize=17)\n",
    "plt.show()"
   ]
  },
  {
   "cell_type": "code",
   "execution_count": 136,
   "metadata": {
    "slideshow": {
     "slide_type": "skip"
    }
   },
   "outputs": [
    {
     "name": "stdout",
     "output_type": "stream",
     "text": [
      "              precision    recall  f1-score   support\n",
      "\n",
      "           0       0.66      0.70      0.68       350\n",
      "           1       0.50      0.44      0.47       232\n",
      "\n",
      "    accuracy                           0.60       582\n",
      "   macro avg       0.58      0.57      0.57       582\n",
      "weighted avg       0.59      0.60      0.60       582\n",
      "\n"
     ]
    }
   ],
   "source": [
    "print(classification_report(y_test, y_pred_bs1, target_names=['0', '1']))"
   ]
  },
  {
   "cell_type": "markdown",
   "metadata": {
    "slideshow": {
     "slide_type": "slide"
    }
   },
   "source": [
    "### Results Analysis"
   ]
  },
  {
   "cell_type": "markdown",
   "metadata": {
    "slideshow": {
     "slide_type": "subslide"
    }
   },
   "source": [
    "###### Analysis of Decision Tree Results"
   ]
  },
  {
   "cell_type": "code",
   "execution_count": 137,
   "metadata": {
    "slideshow": {
     "slide_type": "skip"
    }
   },
   "outputs": [
    {
     "data": {
      "text/html": [
       "<div>\n",
       "<style scoped>\n",
       "    .dataframe tbody tr th:only-of-type {\n",
       "        vertical-align: middle;\n",
       "    }\n",
       "\n",
       "    .dataframe tbody tr th {\n",
       "        vertical-align: top;\n",
       "    }\n",
       "\n",
       "    .dataframe thead th {\n",
       "        text-align: right;\n",
       "    }\n",
       "</style>\n",
       "<table border=\"1\" class=\"dataframe\">\n",
       "  <thead>\n",
       "    <tr style=\"text-align: right;\">\n",
       "      <th></th>\n",
       "      <th>Accuracy</th>\n",
       "      <th>F1_Score</th>\n",
       "    </tr>\n",
       "  </thead>\n",
       "  <tbody>\n",
       "    <tr>\n",
       "      <th>DT_Baseline</th>\n",
       "      <td>0.524055</td>\n",
       "      <td>0.411890</td>\n",
       "    </tr>\n",
       "    <tr>\n",
       "      <th>DT_Corr</th>\n",
       "      <td>0.577320</td>\n",
       "      <td>0.478814</td>\n",
       "    </tr>\n",
       "    <tr>\n",
       "      <th>DT_IG</th>\n",
       "      <td>0.510309</td>\n",
       "      <td>0.394904</td>\n",
       "    </tr>\n",
       "    <tr>\n",
       "      <th>DT_vt</th>\n",
       "      <td>0.534364</td>\n",
       "      <td>0.445808</td>\n",
       "    </tr>\n",
       "    <tr>\n",
       "      <th>DT_rfe</th>\n",
       "      <td>0.532646</td>\n",
       "      <td>0.435685</td>\n",
       "    </tr>\n",
       "    <tr>\n",
       "      <th>DT_bs</th>\n",
       "      <td>0.546392</td>\n",
       "      <td>0.452282</td>\n",
       "    </tr>\n",
       "  </tbody>\n",
       "</table>\n",
       "</div>"
      ],
      "text/plain": [
       "             Accuracy  F1_Score\n",
       "DT_Baseline  0.524055  0.411890\n",
       "DT_Corr      0.577320  0.478814\n",
       "DT_IG        0.510309  0.394904\n",
       "DT_vt        0.534364  0.445808\n",
       "DT_rfe       0.532646  0.435685\n",
       "DT_bs        0.546392  0.452282"
      ]
     },
     "execution_count": 137,
     "metadata": {},
     "output_type": "execute_result"
    }
   ],
   "source": [
    "# dt results\n",
    "results_dt = {\n",
    "    \"Accuracy\": [acc_dt, acc_dt_corr, acc_dt_IG, acc_dt_vt, acc_dt_rfe, acc_dt_bs],\n",
    "    \"F1_Score\": [f1_dt, f1_dt_corr, f1_dt_IG, f1_dt_vt, f1_dt_rfe, f1_dt_bs]\n",
    "}\n",
    "\n",
    "df_dt = pd.DataFrame(results_dt, index=['DT_Baseline', 'DT_Corr', \n",
    "                                     'DT_IG', 'DT_vt', 'DT_rfe', 'DT_bs'])\n",
    "df_dt\n"
   ]
  },
  {
   "cell_type": "code",
   "execution_count": 183,
   "metadata": {
    "slideshow": {
     "slide_type": "-"
    }
   },
   "outputs": [
    {
     "data": {
      "image/png": "[encoded data removed]",
      "text/plain": [
       "<Figure size 576x432 with 1 Axes>"
      ]
     },
     "metadata": {
      "needs_background": "light"
     },
     "output_type": "display_data"
    }
   ],
   "source": [
    "plt.figure(figsize=(8, 6))\n",
    "ax_dt = sns.lineplot(data=df_dt, x=df_dt.index, y='Accuracy', marker='o', label='Accuracy')\n",
    "ax_dt = sns.lineplot(data=df_dt, x=df_dt.index, y='F1_Score', marker='s', label='F1 Score')\n",
    "# adding figures on each point\n",
    "for index, row in df_dt.iterrows():\n",
    "    ax_dt.text(row.name, row['Accuracy'], f\"{row['Accuracy']:.3f}\", color='black', ha=\"center\")\n",
    "    ax_dt.text(row.name, row['F1_Score'], f\"{row['F1_Score']:.3f}\", color='black', ha=\"center\")\n",
    "# customize labels and title\n",
    "plt.xlabel('Models'), plt.ylabel('Score'), plt.title('Accuracy and F1 Score Comparison(DT)')\n",
    "plt.xticks(rotation=45)\n",
    "# display the legend\n",
    "plt.legend()\n",
    "# show the plot\n",
    "plt.tight_layout()\n",
    "plt.show()"
   ]
  },
  {
   "cell_type": "markdown",
   "metadata": {
    "slideshow": {
     "slide_type": "subslide"
    }
   },
   "source": [
    "###### Analysis of Random Forest Results"
   ]
  },
  {
   "cell_type": "code",
   "execution_count": 139,
   "metadata": {
    "slideshow": {
     "slide_type": "skip"
    }
   },
   "outputs": [
    {
     "data": {
      "text/html": [
       "<div>\n",
       "<style scoped>\n",
       "    .dataframe tbody tr th:only-of-type {\n",
       "        vertical-align: middle;\n",
       "    }\n",
       "\n",
       "    .dataframe tbody tr th {\n",
       "        vertical-align: top;\n",
       "    }\n",
       "\n",
       "    .dataframe thead th {\n",
       "        text-align: right;\n",
       "    }\n",
       "</style>\n",
       "<table border=\"1\" class=\"dataframe\">\n",
       "  <thead>\n",
       "    <tr style=\"text-align: right;\">\n",
       "      <th></th>\n",
       "      <th>Accuracy</th>\n",
       "      <th>F1_Score</th>\n",
       "    </tr>\n",
       "  </thead>\n",
       "  <tbody>\n",
       "    <tr>\n",
       "      <th>RF_Baseline</th>\n",
       "      <td>0.625430</td>\n",
       "      <td>0.369942</td>\n",
       "    </tr>\n",
       "    <tr>\n",
       "      <th>RF_Corr</th>\n",
       "      <td>0.635739</td>\n",
       "      <td>0.357576</td>\n",
       "    </tr>\n",
       "    <tr>\n",
       "      <th>RF_IG</th>\n",
       "      <td>0.630584</td>\n",
       "      <td>0.365782</td>\n",
       "    </tr>\n",
       "    <tr>\n",
       "      <th>RF_vt</th>\n",
       "      <td>0.632302</td>\n",
       "      <td>0.351515</td>\n",
       "    </tr>\n",
       "    <tr>\n",
       "      <th>RF_rfe</th>\n",
       "      <td>0.632302</td>\n",
       "      <td>0.335404</td>\n",
       "    </tr>\n",
       "    <tr>\n",
       "      <th>RF_bs</th>\n",
       "      <td>0.630584</td>\n",
       "      <td>0.404432</td>\n",
       "    </tr>\n",
       "  </tbody>\n",
       "</table>\n",
       "</div>"
      ],
      "text/plain": [
       "             Accuracy  F1_Score\n",
       "RF_Baseline  0.625430  0.369942\n",
       "RF_Corr      0.635739  0.357576\n",
       "RF_IG        0.630584  0.365782\n",
       "RF_vt        0.632302  0.351515\n",
       "RF_rfe       0.632302  0.335404\n",
       "RF_bs        0.630584  0.404432"
      ]
     },
     "execution_count": 139,
     "metadata": {},
     "output_type": "execute_result"
    }
   ],
   "source": [
    "# rf results\n",
    "results_knn = {\n",
    "    \"Accuracy\": [acc_rf, acc_rf_corr, acc_rf_IG, acc_rf_vt, acc_rf_rfe, acc_rf_bs],\n",
    "    \"F1_Score\": [f1_rf, f1_rf_corr, f1_rf_IG, f1_rf_vt, f1_rf_rfe, f1_rf_bs]\n",
    "}\n",
    "\n",
    "df_knn = pd.DataFrame(results_knn, index=['RF_Baseline', 'RF_Corr', \n",
    "                                     'RF_IG', 'RF_vt', 'RF_rfe', 'RF_bs'])\n",
    "df_knn\n"
   ]
  },
  {
   "cell_type": "code",
   "execution_count": 184,
   "metadata": {
    "slideshow": {
     "slide_type": "-"
    }
   },
   "outputs": [
    {
     "data": {
      "image/png": "[encoded data removed]",
      "text/plain": [
       "<Figure size 576x432 with 1 Axes>"
      ]
     },
     "metadata": {
      "needs_background": "light"
     },
     "output_type": "display_data"
    }
   ],
   "source": [
    "plt.figure(figsize=(8, 6))\n",
    "ax_knn = sns.lineplot(data=df_knn, x=df_knn.index, y='Accuracy', marker='o', label='Accuracy')\n",
    "ax_knn = sns.lineplot(data=df_knn, x=df_knn.index, y='F1_Score', marker='s', label='F1 Score')\n",
    "# adding figures on each point\n",
    "for index, row in df_knn.iterrows():\n",
    "    ax_knn.text(row.name, row['Accuracy'], f\"{row['Accuracy']:.3f}\", color='black', ha=\"center\")\n",
    "    ax_knn.text(row.name, row['F1_Score'], f\"{row['F1_Score']:.3f}\", color='black', ha=\"center\")\n",
    "# customize labels and title\n",
    "plt.xlabel('Models'), plt.ylabel('Score')\n",
    "plt.title('Accuracy and F1 Score Comparison(RF)')\n",
    "plt.xticks(rotation=45)\n",
    "# display the legend & show the plot\n",
    "plt.legend()\n",
    "plt.tight_layout()\n",
    "plt.show()"
   ]
  },
  {
   "cell_type": "markdown",
   "metadata": {
    "slideshow": {
     "slide_type": "subslide"
    }
   },
   "source": [
    "###### Analysis of Gradient Boosting Results"
   ]
  },
  {
   "cell_type": "code",
   "execution_count": 141,
   "metadata": {
    "slideshow": {
     "slide_type": "skip"
    }
   },
   "outputs": [
    {
     "data": {
      "text/html": [
       "<div>\n",
       "<style scoped>\n",
       "    .dataframe tbody tr th:only-of-type {\n",
       "        vertical-align: middle;\n",
       "    }\n",
       "\n",
       "    .dataframe tbody tr th {\n",
       "        vertical-align: top;\n",
       "    }\n",
       "\n",
       "    .dataframe thead th {\n",
       "        text-align: right;\n",
       "    }\n",
       "</style>\n",
       "<table border=\"1\" class=\"dataframe\">\n",
       "  <thead>\n",
       "    <tr style=\"text-align: right;\">\n",
       "      <th></th>\n",
       "      <th>Accuracy</th>\n",
       "      <th>F1_Score</th>\n",
       "    </tr>\n",
       "  </thead>\n",
       "  <tbody>\n",
       "    <tr>\n",
       "      <th>GB_Baseline</th>\n",
       "      <td>0.621993</td>\n",
       "      <td>0.430052</td>\n",
       "    </tr>\n",
       "    <tr>\n",
       "      <th>GB_Corr</th>\n",
       "      <td>0.628866</td>\n",
       "      <td>0.440415</td>\n",
       "    </tr>\n",
       "    <tr>\n",
       "      <th>GB_IG</th>\n",
       "      <td>0.644330</td>\n",
       "      <td>0.475949</td>\n",
       "    </tr>\n",
       "    <tr>\n",
       "      <th>GB_vt</th>\n",
       "      <td>0.609966</td>\n",
       "      <td>0.419437</td>\n",
       "    </tr>\n",
       "    <tr>\n",
       "      <th>GB_rfe</th>\n",
       "      <td>0.627148</td>\n",
       "      <td>0.439276</td>\n",
       "    </tr>\n",
       "    <tr>\n",
       "      <th>GB_bs</th>\n",
       "      <td>0.615120</td>\n",
       "      <td>0.422680</td>\n",
       "    </tr>\n",
       "  </tbody>\n",
       "</table>\n",
       "</div>"
      ],
      "text/plain": [
       "             Accuracy  F1_Score\n",
       "GB_Baseline  0.621993  0.430052\n",
       "GB_Corr      0.628866  0.440415\n",
       "GB_IG        0.644330  0.475949\n",
       "GB_vt        0.609966  0.419437\n",
       "GB_rfe       0.627148  0.439276\n",
       "GB_bs        0.615120  0.422680"
      ]
     },
     "execution_count": 141,
     "metadata": {},
     "output_type": "execute_result"
    }
   ],
   "source": [
    "# gb results\n",
    "results_gb = {\n",
    "    \"Accuracy\": [acc_gb, acc_gb_corr, acc_gb_IG, acc_gb_vt, acc_gb_rfe, acc_gb_bs],\n",
    "    \"F1_Score\": [f1_gb, f1_gb_corr, f1_gb_IG, f1_gb_vt, f1_gb_rfe, f1_gb_bs]\n",
    "}\n",
    "\n",
    "df_gb = pd.DataFrame(results_gb, index=['GB_Baseline', 'GB_Corr', \n",
    "                                     'GB_IG', 'GB_vt', 'GB_rfe', 'GB_bs'])\n",
    "df_gb\n"
   ]
  },
  {
   "cell_type": "code",
   "execution_count": 185,
   "metadata": {
    "slideshow": {
     "slide_type": "-"
    }
   },
   "outputs": [
    {
     "data": {
      "image/png": "[encoded data removed]",
      "text/plain": [
       "<Figure size 576x432 with 1 Axes>"
      ]
     },
     "metadata": {
      "needs_background": "light"
     },
     "output_type": "display_data"
    }
   ],
   "source": [
    "plt.figure(figsize=(8, 6))\n",
    "ax_gb = sns.lineplot(data=df_gb, x=df_gb.index, y='Accuracy', marker='o', label='Accuracy')\n",
    "ax_gb = sns.lineplot(data=df_gb, x=df_gb.index, y='F1_Score', marker='s', label='F1 Score')\n",
    "# adding figures on each point\n",
    "for index, row in df_gb.iterrows():\n",
    "    ax_gb.text(row.name, row['Accuracy'], f\"{row['Accuracy']:.3f}\", color='black', ha=\"center\")\n",
    "    ax_gb.text(row.name, row['F1_Score'], f\"{row['F1_Score']:.3f}\", color='black', ha=\"center\")\n",
    "# customize labels and title\n",
    "plt.xlabel('Models'), plt.ylabel('Score')\n",
    "plt.title('Accuracy and F1 Score Comparison (GB)'), plt.xticks(rotation=45)\n",
    "# display the legend\n",
    "plt.legend()\n",
    "# display the plot\n",
    "plt.tight_layout()\n",
    "plt.show()"
   ]
  },
  {
   "cell_type": "markdown",
   "metadata": {
    "slideshow": {
     "slide_type": "subslide"
    }
   },
   "source": [
    "###### Analysis of MLP Results"
   ]
  },
  {
   "cell_type": "code",
   "execution_count": 143,
   "metadata": {
    "slideshow": {
     "slide_type": "skip"
    }
   },
   "outputs": [
    {
     "data": {
      "text/html": [
       "<div>\n",
       "<style scoped>\n",
       "    .dataframe tbody tr th:only-of-type {\n",
       "        vertical-align: middle;\n",
       "    }\n",
       "\n",
       "    .dataframe tbody tr th {\n",
       "        vertical-align: top;\n",
       "    }\n",
       "\n",
       "    .dataframe thead th {\n",
       "        text-align: right;\n",
       "    }\n",
       "</style>\n",
       "<table border=\"1\" class=\"dataframe\">\n",
       "  <thead>\n",
       "    <tr style=\"text-align: right;\">\n",
       "      <th></th>\n",
       "      <th>Accuracy</th>\n",
       "      <th>F1_Score</th>\n",
       "    </tr>\n",
       "  </thead>\n",
       "  <tbody>\n",
       "    <tr>\n",
       "      <th>MLP_Baseline</th>\n",
       "      <td>0.615120</td>\n",
       "      <td>0.440000</td>\n",
       "    </tr>\n",
       "    <tr>\n",
       "      <th>MLP_Corr</th>\n",
       "      <td>0.621993</td>\n",
       "      <td>0.481132</td>\n",
       "    </tr>\n",
       "    <tr>\n",
       "      <th>MLP_IG</th>\n",
       "      <td>0.615120</td>\n",
       "      <td>0.488584</td>\n",
       "    </tr>\n",
       "    <tr>\n",
       "      <th>MLP_vt</th>\n",
       "      <td>0.621993</td>\n",
       "      <td>0.497717</td>\n",
       "    </tr>\n",
       "    <tr>\n",
       "      <th>MLP_rfe</th>\n",
       "      <td>0.601375</td>\n",
       "      <td>0.348315</td>\n",
       "    </tr>\n",
       "    <tr>\n",
       "      <th>MLP_bs</th>\n",
       "      <td>0.618557</td>\n",
       "      <td>0.418848</td>\n",
       "    </tr>\n",
       "  </tbody>\n",
       "</table>\n",
       "</div>"
      ],
      "text/plain": [
       "              Accuracy  F1_Score\n",
       "MLP_Baseline  0.615120  0.440000\n",
       "MLP_Corr      0.621993  0.481132\n",
       "MLP_IG        0.615120  0.488584\n",
       "MLP_vt        0.621993  0.497717\n",
       "MLP_rfe       0.601375  0.348315\n",
       "MLP_bs        0.618557  0.418848"
      ]
     },
     "execution_count": 143,
     "metadata": {},
     "output_type": "execute_result"
    }
   ],
   "source": [
    "# mlp results\n",
    "results_mlp = {\n",
    "    \"Accuracy\": [acc_mlp, acc_mlp_corr, acc_mlp_IG, acc_mlp_vt, acc_mlp_rfe, acc_mlp_bs],\n",
    "    \"F1_Score\": [f1_mlp, f1_mlp_corr, f1_mlp_IG, f1_mlp_vt, f1_mlp_rfe, f1_mlp_bs]\n",
    "}\n",
    "\n",
    "df_mlp = pd.DataFrame(results_mlp, index=['MLP_Baseline', 'MLP_Corr', \n",
    "                                     'MLP_IG', 'MLP_vt', 'MLP_rfe', 'MLP_bs'])\n",
    "df_mlp\n"
   ]
  },
  {
   "cell_type": "code",
   "execution_count": 186,
   "metadata": {
    "slideshow": {
     "slide_type": "-"
    }
   },
   "outputs": [
    {
     "data": {
      "image/png": "[encoded data removed]",
      "text/plain": [
       "<Figure size 576x432 with 1 Axes>"
      ]
     },
     "metadata": {
      "needs_background": "light"
     },
     "output_type": "display_data"
    }
   ],
   "source": [
    "plt.figure(figsize=(8, 6))\n",
    "ax_mlp = sns.lineplot(data=df_mlp, x=df_mlp.index, y='Accuracy', marker='o', label='Accuracy')\n",
    "ax_mlp = sns.lineplot(data=df_mlp, x=df_mlp.index, y='F1_Score', marker='s', label='F1 Score')\n",
    "# Adding figures on each point\n",
    "for index, row in df_mlp.iterrows():\n",
    "    ax_mlp.text(row.name, row['Accuracy'], f\"{row['Accuracy']:.3f}\", color='black', ha=\"center\")\n",
    "    ax_mlp.text(row.name, row['F1_Score'], f\"{row['F1_Score']:.3f}\", color='black', ha=\"center\")\n",
    "# Customize labels and title\n",
    "plt.xlabel('Models'), plt.ylabel('Score'), plt.title('Accuracy and F1 Score Comparison (MLP)')\n",
    "plt.xticks(rotation=45)\n",
    "# Display the legend\n",
    "plt.legend()\n",
    "# Show the plot\n",
    "plt.tight_layout()\n",
    "plt.show()"
   ]
  },
  {
   "cell_type": "markdown",
   "metadata": {
    "slideshow": {
     "slide_type": "slide"
    }
   },
   "source": [
    "##### Best Result combinations"
   ]
  },
  {
   "cell_type": "code",
   "execution_count": 163,
   "metadata": {
    "slideshow": {
     "slide_type": "skip"
    }
   },
   "outputs": [],
   "source": [
    "# best combinations\n",
    "results_best = {\n",
    "    \"Accuracy\": [acc_mlp_corr, acc_mlp_vt, acc_gb_corr, acc_gb_rfe, acc_gb_IG, acc_dt_corr, acc_rf_IG, acc_xgb_bs],\n",
    "    \"F1_Score\": [f1_mlp_corr, f1_mlp_vt, f1_gb_corr, f1_gb_rfe, f1_gb_IG, f1_dt_corr, f1_rf_IG, f1_xgb_bs]\n",
    "}\n",
    "\n",
    "df_best = pd.DataFrame(results_best, index=['MLP_Corr', \n",
    "                                     'MLP_vt', 'GB_corr', 'GB_rfe', 'GB_ig', 'DT_corr', 'RF_ig', 'XGB_bs'])"
   ]
  },
  {
   "cell_type": "code",
   "execution_count": 187,
   "metadata": {
    "slideshow": {
     "slide_type": "subslide"
    }
   },
   "outputs": [
    {
     "data": {
      "image/png": "[encoded data removed]",
      "text/plain": [
       "<Figure size 576x432 with 1 Axes>"
      ]
     },
     "metadata": {
      "needs_background": "light"
     },
     "output_type": "display_data"
    }
   ],
   "source": [
    "# visual aid\n",
    "plt.figure(figsize=(8, 6))\n",
    "ax_best = sns.lineplot(data=df_best, x=df_best.index, y='Accuracy', marker='o', label='Accuracy')\n",
    "ax_best = sns.lineplot(data=df_best, x=df_best.index, y='F1_Score', marker='s', label='F1 Score')\n",
    "# Adding figures on each point\n",
    "for index, row in df_best.iterrows():\n",
    "    ax_best.text(row.name, row['Accuracy'], f\"{row['Accuracy']:.3f}\", color='black', ha=\"center\")\n",
    "    ax_best.text(row.name, row['F1_Score'], f\"{row['F1_Score']:.3f}\", color='black', ha=\"center\")\n",
    "# Customize labels and title\n",
    "plt.xlabel('Models'), plt.ylabel('Score')\n",
    "plt.title('Accuracy and F1 Score Comparison (Optimal Combinations)'), plt.xticks(rotation=45)\n",
    "# Display the legend\n",
    "plt.legend()\n",
    "# Show the plot\n",
    "plt.tight_layout()\n",
    "plt.show()"
   ]
  },
  {
   "cell_type": "markdown",
   "metadata": {
    "slideshow": {
     "slide_type": "subslide"
    }
   },
   "source": [
    "#### Discussion of the results\n",
    "It is also worth noting that the effectiveness of these combinations depends on the specific dataset and the relationships between features and the target variable.\n",
    "\n",
    "The gaps that could be further explored in future is the need for hyperparameter tuning on the models to obtain better results.\n",
    "Also, the use of more complex models like black-box models could be better explored as there are feature attribution methods now available to better explain their results."
   ]
  },
  {
   "cell_type": "markdown",
   "metadata": {
    "slideshow": {
     "slide_type": "subslide"
    }
   },
   "source": [
    "#### Conclusion\n",
    "The following variables; admission ward, type of heart failure, NYHA cardiac function classification, diabetes, uric acid, mean hemoglobin volume, glomerular filtration rate, platelet count, basophil count, platelet hematocrit, D dimer, and discharge day were common variables alongside some other variables that were selected in all the feature selection techniques.\n",
    "\n",
    "The findings could provide a reference for clinical care and decision making for heart failure patients in China and may also provide some value to heart failure re-admission studies in Asian populations. However, these selected features need to be vetted by healthcare and cardiology experts."
   ]
  }
 ],
 "metadata": {
  "celltoolbar": "Slideshow",
  "colab": {
   "provenance": []
  },
  "kernelspec": {
   "display_name": "Python 3 (ipykernel)",
   "language": "python",
   "name": "python3"
  },
  "language_info": {
   "codemirror_mode": {
    "name": "ipython",
    "version": 3
   },
   "file_extension": ".py",
   "mimetype": "text/x-python",
   "name": "python",
   "nbconvert_exporter": "python",
   "pygments_lexer": "ipython3",
   "version": "3.11.5"
  }
 },
 "nbformat": 4,
 "nbformat_minor": 1
}
